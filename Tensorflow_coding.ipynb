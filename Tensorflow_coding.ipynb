{
  "nbformat": 4,
  "nbformat_minor": 0,
  "metadata": {
    "colab": {
      "provenance": []
    },
    "kernelspec": {
      "name": "python3",
      "display_name": "Python 3"
    },
    "language_info": {
      "name": "python"
    },
    "accelerator": "TPU"
  },
  "cells": [
    {
      "cell_type": "markdown",
      "source": [
        "Tensorflow studying,coding"
      ],
      "metadata": {
        "id": "uB8RtSX1tH7e"
      }
    },
    {
      "cell_type": "code",
      "source": [
        "import tensorflow as tf\n",
        "import numpy as np\n",
        "import matplotlib.pyplot as plt\n",
        "import pandas as pd"
      ],
      "metadata": {
        "id": "BhvfwvsLZZ94"
      },
      "execution_count": null,
      "outputs": []
    },
    {
      "cell_type": "code",
      "source": [
        "tensor = tf.constant([[9,8],\n",
        "                     [2,3]])\n",
        "print(tensor)\n",
        "print(tensor.ndim)"
      ],
      "metadata": {
        "colab": {
          "base_uri": "https://localhost:8080/"
        },
        "id": "b4AE3qaXtUts",
        "outputId": "09cea6f0-ff29-409b-fcd5-357138e5f569"
      },
      "execution_count": null,
      "outputs": [
        {
          "output_type": "stream",
          "name": "stdout",
          "text": [
            "tf.Tensor(\n",
            "[[9 8]\n",
            " [2 3]], shape=(2, 2), dtype=int32)\n",
            "2\n"
          ]
        }
      ]
    },
    {
      "cell_type": "code",
      "source": [
        "variable_tensor = tf.Variable([[9,8],\n",
        "                               [2,3]])\n",
        "print(variable_tensor)#we use variable to gave tensor ablity to change the values\n",
        "variable_tensor[1].assign(2003)# we use assign to cgande the value in tensor"
      ],
      "metadata": {
        "colab": {
          "base_uri": "https://localhost:8080/"
        },
        "id": "XAJIBhbGt8hQ",
        "outputId": "184aa7bf-c449-467c-fc78-cf81fd456cc5"
      },
      "execution_count": null,
      "outputs": [
        {
          "output_type": "stream",
          "name": "stdout",
          "text": [
            "<tf.Variable 'Variable:0' shape=(2, 2) dtype=int32, numpy=\n",
            "array([[9, 8],\n",
            "       [2, 3]], dtype=int32)>\n"
          ]
        },
        {
          "output_type": "execute_result",
          "data": {
            "text/plain": [
              "<tf.Variable 'UnreadVariable' shape=(2, 2) dtype=int32, numpy=\n",
              "array([[   9,    8],\n",
              "       [2003, 2003]], dtype=int32)>"
            ]
          },
          "metadata": {},
          "execution_count": 3
        }
      ]
    },
    {
      "cell_type": "code",
      "source": [
        "random_tensor = tf.random.Generator.from_seed(98)\n",
        "random_tensor= random_tensor.normal(shape=(2,3))\n",
        "print(random_tensor)"
      ],
      "metadata": {
        "colab": {
          "base_uri": "https://localhost:8080/"
        },
        "id": "sudygKGCwLmP",
        "outputId": "ee6fbc04-2dc2-495a-f2f7-fec14b1ba52d"
      },
      "execution_count": null,
      "outputs": [
        {
          "output_type": "stream",
          "name": "stdout",
          "text": [
            "tf.Tensor(\n",
            "[[-0.17259961 -0.5513397  -0.24820912]\n",
            " [-0.15571186 -0.9934515   1.4369737 ]], shape=(2, 3), dtype=float32)\n"
          ]
        }
      ]
    },
    {
      "cell_type": "code",
      "source": [
        "shuffle_tensor = tf.constant([[9,8],\n",
        "                              [2,3],\n",
        "                              [2,8]])\n",
        "print(tf.random.shuffle(shuffle_tensor))\n",
        "#shuffle with seed\n",
        "seed_shuffle_tensor = tf.constant([[1,2],\n",
        "                                   [3,4],\n",
        "                                   [5,6]])\n",
        "tf.random.set_seed(20)#without this statment will not be same every time\n",
        "tf.random.shuffle(seed_shuffle_tensor)"
      ],
      "metadata": {
        "colab": {
          "base_uri": "https://localhost:8080/"
        },
        "id": "wZ245EVdpQSL",
        "outputId": "aedcfa19-14a1-4d5c-8893-76756b013f0a"
      },
      "execution_count": null,
      "outputs": [
        {
          "output_type": "stream",
          "name": "stdout",
          "text": [
            "tf.Tensor(\n",
            "[[9 8]\n",
            " [2 8]\n",
            " [2 3]], shape=(3, 2), dtype=int32)\n"
          ]
        },
        {
          "output_type": "execute_result",
          "data": {
            "text/plain": [
              "<tf.Tensor: shape=(3, 2), dtype=int32, numpy=\n",
              "array([[1, 2],\n",
              "       [5, 6],\n",
              "       [3, 4]], dtype=int32)>"
            ]
          },
          "metadata": {},
          "execution_count": 5
        }
      ]
    },
    {
      "cell_type": "code",
      "source": [
        "#this way won't be same every time\n",
        "tf.random.shuffle(seed_shuffle_tensor, seed=42)"
      ],
      "metadata": {
        "colab": {
          "base_uri": "https://localhost:8080/"
        },
        "id": "V7Qb2_PYs3Sp",
        "outputId": "8071ee66-67fc-416e-b200-5271bdbeaefd"
      },
      "execution_count": null,
      "outputs": [
        {
          "output_type": "execute_result",
          "data": {
            "text/plain": [
              "<tf.Tensor: shape=(3, 2), dtype=int32, numpy=\n",
              "array([[1, 2],\n",
              "       [5, 6],\n",
              "       [3, 4]], dtype=int32)>"
            ]
          },
          "metadata": {},
          "execution_count": 6
        }
      ]
    },
    {
      "cell_type": "code",
      "source": [
        "print(shuffle_tensor.shape)\n",
        "x_tensor = shuffle_tensor[...,tf.newaxis]\n",
        "x_tensor"
      ],
      "metadata": {
        "id": "_uJVyVkDtIYA",
        "colab": {
          "base_uri": "https://localhost:8080/"
        },
        "outputId": "27b7efda-762a-4a2a-c44a-fbbfcecfd911"
      },
      "execution_count": null,
      "outputs": [
        {
          "output_type": "stream",
          "name": "stdout",
          "text": [
            "(3, 2)\n"
          ]
        },
        {
          "output_type": "execute_result",
          "data": {
            "text/plain": [
              "<tf.Tensor: shape=(3, 2, 1), dtype=int32, numpy=\n",
              "array([[[9],\n",
              "        [8]],\n",
              "\n",
              "       [[2],\n",
              "        [3]],\n",
              "\n",
              "       [[2],\n",
              "        [8]]], dtype=int32)>"
            ]
          },
          "metadata": {},
          "execution_count": 7
        }
      ]
    },
    {
      "cell_type": "code",
      "source": [
        "tf.expand_dims(shuffle_tensor,axis = 0) # try 1 and -1 too"
      ],
      "metadata": {
        "colab": {
          "base_uri": "https://localhost:8080/"
        },
        "id": "nVjqezv_75MS",
        "outputId": "9203c5aa-c942-4ea8-9b59-595312f5c388"
      },
      "execution_count": null,
      "outputs": [
        {
          "output_type": "execute_result",
          "data": {
            "text/plain": [
              "<tf.Tensor: shape=(1, 3, 2), dtype=int32, numpy=\n",
              "array([[[9, 8],\n",
              "        [2, 3],\n",
              "        [2, 8]]], dtype=int32)>"
            ]
          },
          "metadata": {},
          "execution_count": 8
        }
      ]
    },
    {
      "cell_type": "code",
      "source": [
        "Operation_tensor = tf.ones(shape = (3,3))\n",
        "print(tf.add(Operation_tensor , 10))# i can use Operation_tensor + 10\n",
        "print(tf.multiply(Operation_tensor , 5))# i can use Operation_tensor * 5\n",
        "print(tf.subtract(Operation_tensor , 10))# i can use Operation_tensor - 10\n",
        "print(tf.divide(Operation_tensor , 8))# i can use Operation_tensor / 8"
      ],
      "metadata": {
        "colab": {
          "base_uri": "https://localhost:8080/"
        },
        "id": "kFWN_3YM-ayn",
        "outputId": "36620db8-3e41-4a7e-cec5-fea9c4438ce1"
      },
      "execution_count": null,
      "outputs": [
        {
          "output_type": "stream",
          "name": "stdout",
          "text": [
            "tf.Tensor(\n",
            "[[11. 11. 11.]\n",
            " [11. 11. 11.]\n",
            " [11. 11. 11.]], shape=(3, 3), dtype=float32)\n",
            "tf.Tensor(\n",
            "[[5. 5. 5.]\n",
            " [5. 5. 5.]\n",
            " [5. 5. 5.]], shape=(3, 3), dtype=float32)\n",
            "tf.Tensor(\n",
            "[[-9. -9. -9.]\n",
            " [-9. -9. -9.]\n",
            " [-9. -9. -9.]], shape=(3, 3), dtype=float32)\n",
            "tf.Tensor(\n",
            "[[0.125 0.125 0.125]\n",
            " [0.125 0.125 0.125]\n",
            " [0.125 0.125 0.125]], shape=(3, 3), dtype=float32)\n"
          ]
        }
      ]
    },
    {
      "cell_type": "code",
      "source": [
        "tensor_info = tf.ones(shape=(3,3))\n",
        "print(tensor_info)\n",
        "print(tensor_info.shape)\n",
        "print(tensor_info.ndim)\n",
        "print(tf.size(tensor_info))\n",
        "print(tensor_info[0])"
      ],
      "metadata": {
        "colab": {
          "base_uri": "https://localhost:8080/"
        },
        "id": "QhnuB22PowYk",
        "outputId": "bbcf27be-c05a-4f9c-e4c8-9b1e489693c6"
      },
      "execution_count": null,
      "outputs": [
        {
          "output_type": "stream",
          "name": "stdout",
          "text": [
            "tf.Tensor(\n",
            "[[1. 1. 1.]\n",
            " [1. 1. 1.]\n",
            " [1. 1. 1.]], shape=(3, 3), dtype=float32)\n",
            "(3, 3)\n",
            "2\n",
            "tf.Tensor(9, shape=(), dtype=int32)\n",
            "tf.Tensor([1. 1. 1.], shape=(3,), dtype=float32)\n"
          ]
        }
      ]
    },
    {
      "cell_type": "markdown",
      "source": [
        "**three ways to multiply matrix**\n",
        "\n",
        "\n",
        "\n"
      ],
      "metadata": {
        "id": "UmjpYoCaqvBf"
      }
    },
    {
      "cell_type": "code",
      "source": [
        "tensor_A = tf.constant([[9,8],\n",
        "                       [2,3],\n",
        "                       [2,8]])\n",
        "tensor_B = tf.constant([[1,2,3],\n",
        "                        [4,5,6]])"
      ],
      "metadata": {
        "id": "dsvxqepBs0ri"
      },
      "execution_count": null,
      "outputs": []
    },
    {
      "cell_type": "code",
      "source": [
        "tensor_A , tensor_B"
      ],
      "metadata": {
        "colab": {
          "base_uri": "https://localhost:8080/"
        },
        "id": "lDhwyrwYtk7c",
        "outputId": "2a81d74e-4d92-4c30-9a82-8c3a0d569c01"
      },
      "execution_count": null,
      "outputs": [
        {
          "output_type": "execute_result",
          "data": {
            "text/plain": [
              "(<tf.Tensor: shape=(3, 2), dtype=int32, numpy=\n",
              " array([[9, 8],\n",
              "        [2, 3],\n",
              "        [2, 8]], dtype=int32)>,\n",
              " <tf.Tensor: shape=(2, 3), dtype=int32, numpy=\n",
              " array([[1, 2, 3],\n",
              "        [4, 5, 6]], dtype=int32)>)"
            ]
          },
          "metadata": {},
          "execution_count": 12
        }
      ]
    },
    {
      "cell_type": "code",
      "source": [
        "tf.matmul(tensor_A , tensor_B)"
      ],
      "metadata": {
        "colab": {
          "base_uri": "https://localhost:8080/"
        },
        "id": "2xnAldxLrZSN",
        "outputId": "9a34cb89-025d-4e80-b2fb-10f8f3d37c85"
      },
      "execution_count": null,
      "outputs": [
        {
          "output_type": "execute_result",
          "data": {
            "text/plain": [
              "<tf.Tensor: shape=(3, 3), dtype=int32, numpy=\n",
              "array([[41, 58, 75],\n",
              "       [14, 19, 24],\n",
              "       [34, 44, 54]], dtype=int32)>"
            ]
          },
          "metadata": {},
          "execution_count": 13
        }
      ]
    },
    {
      "cell_type": "code",
      "source": [
        "tf.tensordot(tensor_A , tensor_B ,axes=1)"
      ],
      "metadata": {
        "colab": {
          "base_uri": "https://localhost:8080/"
        },
        "id": "meO-XbfAsar-",
        "outputId": "0cbd6b89-c6b8-44a1-f9e9-09a20d3cb552"
      },
      "execution_count": null,
      "outputs": [
        {
          "output_type": "execute_result",
          "data": {
            "text/plain": [
              "<tf.Tensor: shape=(3, 3), dtype=int32, numpy=\n",
              "array([[41, 58, 75],\n",
              "       [14, 19, 24],\n",
              "       [34, 44, 54]], dtype=int32)>"
            ]
          },
          "metadata": {},
          "execution_count": 14
        }
      ]
    },
    {
      "cell_type": "code",
      "source": [
        "tensor_A @ tensor_B"
      ],
      "metadata": {
        "colab": {
          "base_uri": "https://localhost:8080/"
        },
        "id": "bNK3uid_uEH_",
        "outputId": "0c2bd01f-d32b-41f4-d315-753eb35d3e6a"
      },
      "execution_count": null,
      "outputs": [
        {
          "output_type": "execute_result",
          "data": {
            "text/plain": [
              "<tf.Tensor: shape=(3, 3), dtype=int32, numpy=\n",
              "array([[41, 58, 75],\n",
              "       [14, 19, 24],\n",
              "       [34, 44, 54]], dtype=int32)>"
            ]
          },
          "metadata": {},
          "execution_count": 15
        }
      ]
    },
    {
      "cell_type": "code",
      "source": [
        "tensor_B @ tensor_A"
      ],
      "metadata": {
        "colab": {
          "base_uri": "https://localhost:8080/"
        },
        "id": "TX_jKt5JuNe2",
        "outputId": "833b0fc5-ea14-48ce-8cd5-93e480332cfa"
      },
      "execution_count": null,
      "outputs": [
        {
          "output_type": "execute_result",
          "data": {
            "text/plain": [
              "<tf.Tensor: shape=(2, 2), dtype=int32, numpy=\n",
              "array([[19, 38],\n",
              "       [58, 95]], dtype=int32)>"
            ]
          },
          "metadata": {},
          "execution_count": 16
        }
      ]
    },
    {
      "cell_type": "markdown",
      "source": [
        "some time we need to reshape tensor we use tranpose and reshape methods"
      ],
      "metadata": {
        "id": "k1t5paQ8uWBm"
      }
    },
    {
      "cell_type": "code",
      "source": [
        "print(tensor_A)\n",
        "tf.reshape(tensor_A , (2,3))"
      ],
      "metadata": {
        "colab": {
          "base_uri": "https://localhost:8080/"
        },
        "id": "7RKsnIuOu6zT",
        "outputId": "40ea350b-bf15-4ad9-d425-e21d1d1bb276"
      },
      "execution_count": null,
      "outputs": [
        {
          "output_type": "stream",
          "name": "stdout",
          "text": [
            "tf.Tensor(\n",
            "[[9 8]\n",
            " [2 3]\n",
            " [2 8]], shape=(3, 2), dtype=int32)\n"
          ]
        },
        {
          "output_type": "execute_result",
          "data": {
            "text/plain": [
              "<tf.Tensor: shape=(2, 3), dtype=int32, numpy=\n",
              "array([[9, 8, 2],\n",
              "       [3, 2, 8]], dtype=int32)>"
            ]
          },
          "metadata": {},
          "execution_count": 17
        }
      ]
    },
    {
      "cell_type": "code",
      "source": [
        "print(tensor_A)\n",
        "tf.transpose(tensor_A)"
      ],
      "metadata": {
        "colab": {
          "base_uri": "https://localhost:8080/"
        },
        "id": "BH1pVTuQvqDy",
        "outputId": "080805f8-49f9-4704-98ef-243d010c506f"
      },
      "execution_count": null,
      "outputs": [
        {
          "output_type": "stream",
          "name": "stdout",
          "text": [
            "tf.Tensor(\n",
            "[[9 8]\n",
            " [2 3]\n",
            " [2 8]], shape=(3, 2), dtype=int32)\n"
          ]
        },
        {
          "output_type": "execute_result",
          "data": {
            "text/plain": [
              "<tf.Tensor: shape=(2, 3), dtype=int32, numpy=\n",
              "array([[9, 2, 2],\n",
              "       [8, 3, 8]], dtype=int32)>"
            ]
          },
          "metadata": {},
          "execution_count": 18
        }
      ]
    },
    {
      "cell_type": "code",
      "source": [
        "tf.cast(tensor_A , dtype = tf.int16)"
      ],
      "metadata": {
        "colab": {
          "base_uri": "https://localhost:8080/"
        },
        "id": "Gt2anz2lwg6F",
        "outputId": "bfee9b2f-43a4-46f8-f452-275a0d437014"
      },
      "execution_count": null,
      "outputs": [
        {
          "output_type": "execute_result",
          "data": {
            "text/plain": [
              "<tf.Tensor: shape=(3, 2), dtype=int16, numpy=\n",
              "array([[9, 8],\n",
              "       [2, 3],\n",
              "       [2, 8]], dtype=int16)>"
            ]
          },
          "metadata": {},
          "execution_count": 19
        }
      ]
    },
    {
      "cell_type": "code",
      "source": [
        "some_list = [1,0,1,0]\n",
        "tf.one_hot(some_list , depth=2)#depth can be any number"
      ],
      "metadata": {
        "colab": {
          "base_uri": "https://localhost:8080/"
        },
        "id": "3EF107ZC6Tya",
        "outputId": "3390af01-a9f6-43d4-a88d-16a360acd901"
      },
      "execution_count": null,
      "outputs": [
        {
          "output_type": "execute_result",
          "data": {
            "text/plain": [
              "<tf.Tensor: shape=(4, 2), dtype=float32, numpy=\n",
              "array([[0., 1.],\n",
              "       [1., 0.],\n",
              "       [0., 1.],\n",
              "       [1., 0.]], dtype=float32)>"
            ]
          },
          "metadata": {},
          "execution_count": 20
        }
      ]
    },
    {
      "cell_type": "code",
      "source": [
        "tf.one_hot(some_list , depth=2 ,on_value='mohd',off_value='salah')"
      ],
      "metadata": {
        "colab": {
          "base_uri": "https://localhost:8080/"
        },
        "id": "zwoWAIn97eCh",
        "outputId": "ac0682f1-3481-442e-9895-c21240b6ec04"
      },
      "execution_count": null,
      "outputs": [
        {
          "output_type": "execute_result",
          "data": {
            "text/plain": [
              "<tf.Tensor: shape=(4, 2), dtype=string, numpy=\n",
              "array([[b'salah', b'mohd'],\n",
              "       [b'mohd', b'salah'],\n",
              "       [b'salah', b'mohd'],\n",
              "       [b'mohd', b'salah']], dtype=object)>"
            ]
          },
          "metadata": {},
          "execution_count": 21
        }
      ]
    },
    {
      "cell_type": "code",
      "source": [],
      "metadata": {
        "id": "ku5rrsUW1Tf9"
      },
      "execution_count": null,
      "outputs": []
    },
    {
      "cell_type": "markdown",
      "source": [
        "**Exercises of fundimentals**"
      ],
      "metadata": {
        "id": "cClKt8fV4T9u"
      }
    },
    {
      "cell_type": "code",
      "source": [
        "random_tensor1 = tf.random.uniform(shape=(5, 300))\n",
        "random_tensor1"
      ],
      "metadata": {
        "colab": {
          "base_uri": "https://localhost:8080/"
        },
        "id": "cHUGBXA-8qnV",
        "outputId": "97cc45fe-1390-4af1-9b7a-afc3d529211e"
      },
      "execution_count": null,
      "outputs": [
        {
          "output_type": "execute_result",
          "data": {
            "text/plain": [
              "<tf.Tensor: shape=(5, 300), dtype=float32, numpy=\n",
              "array([[0.7592524 , 0.3429997 , 0.98290706, ..., 0.48262   , 0.5850334 ,\n",
              "        0.17236125],\n",
              "       [0.37906587, 0.7108853 , 0.14164591, ..., 0.00304306, 0.3698337 ,\n",
              "        0.2717018 ],\n",
              "       [0.7108785 , 0.61272454, 0.50162137, ..., 0.17800677, 0.27571416,\n",
              "        0.4334272 ],\n",
              "       [0.2360493 , 0.09078598, 0.4251405 , ..., 0.55970025, 0.3086425 ,\n",
              "        0.6480683 ],\n",
              "       [0.83708954, 0.05197573, 0.5071912 , ..., 0.04281163, 0.07539773,\n",
              "        0.4050728 ]], dtype=float32)>"
            ]
          },
          "metadata": {},
          "execution_count": 22
        }
      ]
    },
    {
      "cell_type": "code",
      "source": [
        "random_tensor2 = tf.random.uniform(shape=(5 , 300))\n",
        "random_tensor2"
      ],
      "metadata": {
        "colab": {
          "base_uri": "https://localhost:8080/"
        },
        "id": "-DU8Oe8l4lad",
        "outputId": "20edc157-3852-48f8-ae86-5cb85f4083d4"
      },
      "execution_count": null,
      "outputs": [
        {
          "output_type": "execute_result",
          "data": {
            "text/plain": [
              "<tf.Tensor: shape=(5, 300), dtype=float32, numpy=\n",
              "array([[0.07946646, 0.64237964, 0.58606577, ..., 0.45988894, 0.89408386,\n",
              "        0.15922081],\n",
              "       [0.80975854, 0.7800511 , 0.22484398, ..., 0.9645562 , 0.18066955,\n",
              "        0.53040564],\n",
              "       [0.11161125, 0.2284081 , 0.32503533, ..., 0.140167  , 0.9476074 ,\n",
              "        0.41583538],\n",
              "       [0.7834928 , 0.2787106 , 0.8978425 , ..., 0.2565173 , 0.11163366,\n",
              "        0.02319455],\n",
              "       [0.983148  , 0.7432798 , 0.03520286, ..., 0.29134417, 0.65609145,\n",
              "        0.29455674]], dtype=float32)>"
            ]
          },
          "metadata": {},
          "execution_count": 23
        }
      ]
    },
    {
      "cell_type": "code",
      "source": [
        "tf.matmul(random_tensor1 , tf.reshape(random_tensor2 , (300,5)))"
      ],
      "metadata": {
        "colab": {
          "base_uri": "https://localhost:8080/"
        },
        "id": "hQq-t2kK9GQk",
        "outputId": "dc36587d-8b44-43f7-9384-22956e4d9aed"
      },
      "execution_count": null,
      "outputs": [
        {
          "output_type": "execute_result",
          "data": {
            "text/plain": [
              "<tf.Tensor: shape=(5, 5), dtype=float32, numpy=\n",
              "array([[68.36754 , 67.71439 , 69.136696, 66.979614, 65.793144],\n",
              "       [70.90848 , 68.062195, 75.238144, 69.78133 , 72.79082 ],\n",
              "       [80.53359 , 80.768555, 82.64895 , 76.240326, 81.99032 ],\n",
              "       [74.36136 , 69.07012 , 75.24844 , 69.266525, 73.20613 ],\n",
              "       [78.282906, 73.84912 , 80.375824, 71.25992 , 76.36318 ]],\n",
              "      dtype=float32)>"
            ]
          },
          "metadata": {},
          "execution_count": 24
        }
      ]
    },
    {
      "cell_type": "code",
      "source": [
        "tf.matmul(random_tensor1 , tf.transpose(random_tensor2))"
      ],
      "metadata": {
        "colab": {
          "base_uri": "https://localhost:8080/"
        },
        "id": "ljzUgpTdArPq",
        "outputId": "609468c7-3d81-40ca-e20d-40c07a9f2d60"
      },
      "execution_count": null,
      "outputs": [
        {
          "output_type": "execute_result",
          "data": {
            "text/plain": [
              "<tf.Tensor: shape=(5, 5), dtype=float32, numpy=\n",
              "array([[64.858185, 68.62747 , 65.13156 , 66.65625 , 70.28026 ],\n",
              "       [70.18569 , 73.160126, 70.67537 , 71.91155 , 73.88324 ],\n",
              "       [77.655716, 86.5943  , 78.63609 , 78.00514 , 82.23008 ],\n",
              "       [70.01696 , 74.02408 , 67.5201  , 70.28526 , 76.83974 ],\n",
              "       [71.00107 , 79.921715, 73.489235, 76.04459 , 82.18234 ]],\n",
              "      dtype=float32)>"
            ]
          },
          "metadata": {},
          "execution_count": 25
        }
      ]
    },
    {
      "cell_type": "code",
      "source": [
        "tf.tensordot(random_tensor1 , tf.transpose(random_tensor2) , axes=1)"
      ],
      "metadata": {
        "colab": {
          "base_uri": "https://localhost:8080/"
        },
        "id": "_5791GQw-02d",
        "outputId": "7fe22465-8ad8-4068-e7a2-4a42ee07db06"
      },
      "execution_count": null,
      "outputs": [
        {
          "output_type": "execute_result",
          "data": {
            "text/plain": [
              "<tf.Tensor: shape=(5, 5), dtype=float32, numpy=\n",
              "array([[64.858185, 68.62747 , 65.13156 , 66.65625 , 70.28026 ],\n",
              "       [70.18569 , 73.160126, 70.67537 , 71.91155 , 73.88324 ],\n",
              "       [77.655716, 86.5943  , 78.63609 , 78.00514 , 82.23008 ],\n",
              "       [70.01696 , 74.02408 , 67.5201  , 70.28526 , 76.83974 ],\n",
              "       [71.00107 , 79.921715, 73.489235, 76.04459 , 82.18234 ]],\n",
              "      dtype=float32)>"
            ]
          },
          "metadata": {},
          "execution_count": 26
        }
      ]
    },
    {
      "cell_type": "code",
      "source": [
        "random_tensor3=tf.random.uniform((224, 224, 3))\n",
        "random_tensor3"
      ],
      "metadata": {
        "colab": {
          "base_uri": "https://localhost:8080/"
        },
        "id": "uEI84-1t_XEy",
        "outputId": "20bd8df2-396b-4ef8-d51b-f321d000941e"
      },
      "execution_count": null,
      "outputs": [
        {
          "output_type": "execute_result",
          "data": {
            "text/plain": [
              "<tf.Tensor: shape=(224, 224, 3), dtype=float32, numpy=\n",
              "array([[[0.56149936, 0.5322509 , 0.21349204],\n",
              "        [0.14224744, 0.24900997, 0.29649258],\n",
              "        [0.5828576 , 0.87756705, 0.46964884],\n",
              "        ...,\n",
              "        [0.7935529 , 0.85678315, 0.18331349],\n",
              "        [0.15985692, 0.37049663, 0.55169845],\n",
              "        [0.0535363 , 0.21429074, 0.43086874]],\n",
              "\n",
              "       [[0.00938761, 0.07614315, 0.93406975],\n",
              "        [0.37533748, 0.75434864, 0.796286  ],\n",
              "        [0.5901543 , 0.6826701 , 0.38886404],\n",
              "        ...,\n",
              "        [0.13462996, 0.4456004 , 0.04776335],\n",
              "        [0.8816571 , 0.42540622, 0.7675034 ],\n",
              "        [0.81010723, 0.00431132, 0.96287525]],\n",
              "\n",
              "       [[0.9450991 , 0.44678617, 0.10234642],\n",
              "        [0.74099004, 0.08418906, 0.4665259 ],\n",
              "        [0.42830145, 0.24740696, 0.39908695],\n",
              "        ...,\n",
              "        [0.70096815, 0.24710262, 0.8433453 ],\n",
              "        [0.57152903, 0.11213565, 0.43440783],\n",
              "        [0.2616682 , 0.21114016, 0.6951525 ]],\n",
              "\n",
              "       ...,\n",
              "\n",
              "       [[0.45128286, 0.48599052, 0.6837392 ],\n",
              "        [0.38307834, 0.0531342 , 0.39945984],\n",
              "        [0.6375809 , 0.7828566 , 0.9716505 ],\n",
              "        ...,\n",
              "        [0.2811432 , 0.53383625, 0.1733607 ],\n",
              "        [0.52565277, 0.6023905 , 0.4199345 ],\n",
              "        [0.2213043 , 0.96762156, 0.21099114]],\n",
              "\n",
              "       [[0.96954024, 0.96433616, 0.34620774],\n",
              "        [0.67118263, 0.23229003, 0.9087622 ],\n",
              "        [0.9972303 , 0.47693264, 0.40636218],\n",
              "        ...,\n",
              "        [0.35957575, 0.0315727 , 0.64360344],\n",
              "        [0.76300716, 0.4866284 , 0.9722091 ],\n",
              "        [0.728835  , 0.89467025, 0.27017057]],\n",
              "\n",
              "       [[0.7473879 , 0.2789799 , 0.96343935],\n",
              "        [0.01753831, 0.48857975, 0.00987101],\n",
              "        [0.94103193, 0.9370167 , 0.36145592],\n",
              "        ...,\n",
              "        [0.37225926, 0.07148743, 0.15390122],\n",
              "        [0.05044496, 0.24016368, 0.9328002 ],\n",
              "        [0.90000653, 0.30666077, 0.38955486]]], dtype=float32)>"
            ]
          },
          "metadata": {},
          "execution_count": 27
        }
      ]
    },
    {
      "cell_type": "code",
      "source": [
        "tf.reduce_max(random_tensor3)"
      ],
      "metadata": {
        "colab": {
          "base_uri": "https://localhost:8080/"
        },
        "id": "O4wNFBYx_rzQ",
        "outputId": "7f7108aa-3836-4763-b748-4a08e249d2cf"
      },
      "execution_count": null,
      "outputs": [
        {
          "output_type": "execute_result",
          "data": {
            "text/plain": [
              "<tf.Tensor: shape=(), dtype=float32, numpy=0.9999933>"
            ]
          },
          "metadata": {},
          "execution_count": 28
        }
      ]
    },
    {
      "cell_type": "code",
      "source": [
        "tf.reduce_min(random_tensor3) ,tf.reduce_mean(random_tensor3)"
      ],
      "metadata": {
        "colab": {
          "base_uri": "https://localhost:8080/"
        },
        "id": "Psxoe0f9_zTY",
        "outputId": "f1e64669-95ff-42de-e79d-cfd4e69a866b"
      },
      "execution_count": null,
      "outputs": [
        {
          "output_type": "execute_result",
          "data": {
            "text/plain": [
              "(<tf.Tensor: shape=(), dtype=float32, numpy=5.2452087e-06>,\n",
              " <tf.Tensor: shape=(), dtype=float32, numpy=0.5015594>)"
            ]
          },
          "metadata": {},
          "execution_count": 29
        }
      ]
    },
    {
      "cell_type": "code",
      "source": [
        "tf.squeeze(random_tensor3) , random_tensor3.shape"
      ],
      "metadata": {
        "colab": {
          "base_uri": "https://localhost:8080/"
        },
        "id": "QBCkG12kAN3z",
        "outputId": "6fc4c120-8227-48c3-81b5-b50ac7f1fd2d"
      },
      "execution_count": null,
      "outputs": [
        {
          "output_type": "execute_result",
          "data": {
            "text/plain": [
              "(<tf.Tensor: shape=(224, 224, 3), dtype=float32, numpy=\n",
              " array([[[0.56149936, 0.5322509 , 0.21349204],\n",
              "         [0.14224744, 0.24900997, 0.29649258],\n",
              "         [0.5828576 , 0.87756705, 0.46964884],\n",
              "         ...,\n",
              "         [0.7935529 , 0.85678315, 0.18331349],\n",
              "         [0.15985692, 0.37049663, 0.55169845],\n",
              "         [0.0535363 , 0.21429074, 0.43086874]],\n",
              " \n",
              "        [[0.00938761, 0.07614315, 0.93406975],\n",
              "         [0.37533748, 0.75434864, 0.796286  ],\n",
              "         [0.5901543 , 0.6826701 , 0.38886404],\n",
              "         ...,\n",
              "         [0.13462996, 0.4456004 , 0.04776335],\n",
              "         [0.8816571 , 0.42540622, 0.7675034 ],\n",
              "         [0.81010723, 0.00431132, 0.96287525]],\n",
              " \n",
              "        [[0.9450991 , 0.44678617, 0.10234642],\n",
              "         [0.74099004, 0.08418906, 0.4665259 ],\n",
              "         [0.42830145, 0.24740696, 0.39908695],\n",
              "         ...,\n",
              "         [0.70096815, 0.24710262, 0.8433453 ],\n",
              "         [0.57152903, 0.11213565, 0.43440783],\n",
              "         [0.2616682 , 0.21114016, 0.6951525 ]],\n",
              " \n",
              "        ...,\n",
              " \n",
              "        [[0.45128286, 0.48599052, 0.6837392 ],\n",
              "         [0.38307834, 0.0531342 , 0.39945984],\n",
              "         [0.6375809 , 0.7828566 , 0.9716505 ],\n",
              "         ...,\n",
              "         [0.2811432 , 0.53383625, 0.1733607 ],\n",
              "         [0.52565277, 0.6023905 , 0.4199345 ],\n",
              "         [0.2213043 , 0.96762156, 0.21099114]],\n",
              " \n",
              "        [[0.96954024, 0.96433616, 0.34620774],\n",
              "         [0.67118263, 0.23229003, 0.9087622 ],\n",
              "         [0.9972303 , 0.47693264, 0.40636218],\n",
              "         ...,\n",
              "         [0.35957575, 0.0315727 , 0.64360344],\n",
              "         [0.76300716, 0.4866284 , 0.9722091 ],\n",
              "         [0.728835  , 0.89467025, 0.27017057]],\n",
              " \n",
              "        [[0.7473879 , 0.2789799 , 0.96343935],\n",
              "         [0.01753831, 0.48857975, 0.00987101],\n",
              "         [0.94103193, 0.9370167 , 0.36145592],\n",
              "         ...,\n",
              "         [0.37225926, 0.07148743, 0.15390122],\n",
              "         [0.05044496, 0.24016368, 0.9328002 ],\n",
              "         [0.90000653, 0.30666077, 0.38955486]]], dtype=float32)>,\n",
              " TensorShape([224, 224, 3]))"
            ]
          },
          "metadata": {},
          "execution_count": 30
        }
      ]
    },
    {
      "cell_type": "code",
      "source": [
        "onehot_tensor = tf.constant([1,0,3,4,5,6,7,8,9,10])\n",
        "onehot_tensor\n"
      ],
      "metadata": {
        "colab": {
          "base_uri": "https://localhost:8080/"
        },
        "id": "Dcu7COsLAdN-",
        "outputId": "915876eb-4301-4ca7-bce6-3370ad13fde3"
      },
      "execution_count": null,
      "outputs": [
        {
          "output_type": "execute_result",
          "data": {
            "text/plain": [
              "<tf.Tensor: shape=(10,), dtype=int32, numpy=array([ 1,  0,  3,  4,  5,  6,  7,  8,  9, 10], dtype=int32)>"
            ]
          },
          "metadata": {},
          "execution_count": 31
        }
      ]
    },
    {
      "cell_type": "code",
      "source": [
        "tf.argmax(onehot_tensor)"
      ],
      "metadata": {
        "colab": {
          "base_uri": "https://localhost:8080/"
        },
        "id": "IDjKxtqMBZX1",
        "outputId": "b3fe22ca-0062-423b-fe8d-1a5eeaabc39e"
      },
      "execution_count": null,
      "outputs": [
        {
          "output_type": "execute_result",
          "data": {
            "text/plain": [
              "<tf.Tensor: shape=(), dtype=int64, numpy=9>"
            ]
          },
          "metadata": {},
          "execution_count": 32
        }
      ]
    },
    {
      "cell_type": "code",
      "source": [
        "tf.argmax(onehot_tensor).numpy()"
      ],
      "metadata": {
        "colab": {
          "base_uri": "https://localhost:8080/"
        },
        "id": "Bf0kUiBSCA_d",
        "outputId": "6dfe38ad-070b-4d78-d0f8-ea5b44098501"
      },
      "execution_count": null,
      "outputs": [
        {
          "output_type": "execute_result",
          "data": {
            "text/plain": [
              "9"
            ]
          },
          "metadata": {},
          "execution_count": 33
        }
      ]
    },
    {
      "cell_type": "code",
      "source": [
        "tf.one_hot(onehot_tensor , depth=2)"
      ],
      "metadata": {
        "colab": {
          "base_uri": "https://localhost:8080/"
        },
        "id": "kh9XWjadCDxY",
        "outputId": "2fa5976c-0dfb-49cc-cbff-e4c13b43422a"
      },
      "execution_count": null,
      "outputs": [
        {
          "output_type": "execute_result",
          "data": {
            "text/plain": [
              "<tf.Tensor: shape=(10, 2), dtype=float32, numpy=\n",
              "array([[0., 1.],\n",
              "       [1., 0.],\n",
              "       [0., 0.],\n",
              "       [0., 0.],\n",
              "       [0., 0.],\n",
              "       [0., 0.],\n",
              "       [0., 0.],\n",
              "       [0., 0.],\n",
              "       [0., 0.],\n",
              "       [0., 0.]], dtype=float32)>"
            ]
          },
          "metadata": {},
          "execution_count": 34
        }
      ]
    },
    {
      "cell_type": "markdown",
      "source": [
        "**section 02 neural ntework \"regression\"**"
      ],
      "metadata": {
        "id": "TgAVF9ajDcMt"
      }
    },
    {
      "cell_type": "code",
      "source": [
        "x = tf.constant([1,2,3,4,5])\n",
        "y = tf.constant([4,5,6,7,8])"
      ],
      "metadata": {
        "id": "WAShvk9LDxPQ"
      },
      "execution_count": null,
      "outputs": []
    },
    {
      "cell_type": "code",
      "source": [
        "plt.scatter(x,y)"
      ],
      "metadata": {
        "colab": {
          "base_uri": "https://localhost:8080/",
          "height": 447
        },
        "id": "jWq8XOhKEF7O",
        "outputId": "a6128e90-7b4e-4228-bcc9-2ee811ba2a48"
      },
      "execution_count": null,
      "outputs": [
        {
          "output_type": "execute_result",
          "data": {
            "text/plain": [
              "<matplotlib.collections.PathCollection at 0x781120ea7190>"
            ]
          },
          "metadata": {},
          "execution_count": 36
        },
        {
          "output_type": "display_data",
          "data": {
            "text/plain": [
              "<Figure size 640x480 with 1 Axes>"
            ],
            "image/png": "[encoded data removed]"
          },
          "metadata": {}
        }
      ]
    },
    {
      "cell_type": "code",
      "source": [
        "\"\"\"\n",
        "modle = tf.keras.Sequential([\n",
        "    tf.keras.layers.Dense(1)\n",
        "])\n",
        "model.compile(loss=tf.keras.losses.mae,\n",
        "              optimizer=tf.keras.optimizers.SGD(),\n",
        "              metrics=['mae'])\n",
        "model.fit(tf.expand_dims(x, axis=-1), y , epochs=50)\n",
        "\"\"\""
      ],
      "metadata": {
        "colab": {
          "base_uri": "https://localhost:8080/",
          "height": 53
        },
        "id": "eiTNQ-KSko_d",
        "outputId": "3b5ebc80-c9ef-4d3d-b00b-617dc87b2576"
      },
      "execution_count": null,
      "outputs": [
        {
          "output_type": "execute_result",
          "data": {
            "text/plain": [
              "\"\\nmodle = tf.keras.Sequential([\\n    tf.keras.layers.Dense(1)\\n])\\nmodel.compile(loss=tf.keras.losses.mae,\\n              optimizer=tf.keras.optimizers.SGD(),\\n              metrics=['mae'])\\nmodel.fit(tf.expand_dims(x, axis=-1), y , epochs=50)\\n\""
            ],
            "application/vnd.google.colaboratory.intrinsic+json": {
              "type": "string"
            }
          },
          "metadata": {},
          "execution_count": 37
        }
      ]
    },
    {
      "cell_type": "code",
      "source": [
        "#model.predict([6])"
      ],
      "metadata": {
        "id": "5Qap1rwj3pnJ"
      },
      "execution_count": null,
      "outputs": []
    },
    {
      "cell_type": "code",
      "source": [
        "x,y"
      ],
      "metadata": {
        "colab": {
          "base_uri": "https://localhost:8080/"
        },
        "id": "wiAg2fqU3pqf",
        "outputId": "c31a199d-8ab0-4739-ae53-9a749fce98f6"
      },
      "execution_count": null,
      "outputs": [
        {
          "output_type": "execute_result",
          "data": {
            "text/plain": [
              "(<tf.Tensor: shape=(5,), dtype=int32, numpy=array([1, 2, 3, 4, 5], dtype=int32)>,\n",
              " <tf.Tensor: shape=(5,), dtype=int32, numpy=array([4, 5, 6, 7, 8], dtype=int32)>)"
            ]
          },
          "metadata": {},
          "execution_count": 39
        }
      ]
    },
    {
      "cell_type": "code",
      "source": [
        "model = tf.keras.Sequential([\n",
        "    tf.keras.layers.Dense(50 , activation=None),\n",
        "    tf.keras.layers.Dense(1)\n",
        "])\n",
        "model.compile(loss=\"mae\",\n",
        "              optimizer=tf.keras.optimizers.Adam(learning_rate=0.01),\n",
        "              metrics=[(\"mae\")])\n",
        "model.fit(tf.expand_dims(x,axis=-1),y,epochs=200)"
      ],
      "metadata": {
        "id": "Tyn8lvQo4_6J",
        "colab": {
          "base_uri": "https://localhost:8080/"
        },
        "outputId": "a47134e1-edef-4794-9391-ee300f0d1848"
      },
      "execution_count": null,
      "outputs": [
        {
          "output_type": "stream",
          "name": "stdout",
          "text": [
            "Epoch 1/200\n",
            "1/1 [==============================] - 2s 2s/step - loss: 6.1045 - mae: 6.1045\n",
            "Epoch 2/200\n",
            "1/1 [==============================] - 0s 14ms/step - loss: 5.5033 - mae: 5.5033\n",
            "Epoch 3/200\n",
            "1/1 [==============================] - 0s 19ms/step - loss: 4.9032 - mae: 4.9032\n",
            "Epoch 4/200\n",
            "1/1 [==============================] - 0s 15ms/step - loss: 4.3015 - mae: 4.3015\n",
            "Epoch 5/200\n",
            "1/1 [==============================] - 0s 15ms/step - loss: 3.6951 - mae: 3.6951\n",
            "Epoch 6/200\n",
            "1/1 [==============================] - 0s 11ms/step - loss: 3.0812 - mae: 3.0812\n",
            "Epoch 7/200\n",
            "1/1 [==============================] - 0s 11ms/step - loss: 2.4571 - mae: 2.4571\n",
            "Epoch 8/200\n",
            "1/1 [==============================] - 0s 13ms/step - loss: 1.8199 - mae: 1.8199\n",
            "Epoch 9/200\n",
            "1/1 [==============================] - 0s 10ms/step - loss: 1.1669 - mae: 1.1669\n",
            "Epoch 10/200\n",
            "1/1 [==============================] - 0s 13ms/step - loss: 0.7220 - mae: 0.7220\n",
            "Epoch 11/200\n",
            "1/1 [==============================] - 0s 10ms/step - loss: 0.8354 - mae: 0.8354\n",
            "Epoch 12/200\n",
            "1/1 [==============================] - 0s 13ms/step - loss: 1.0717 - mae: 1.0717\n",
            "Epoch 13/200\n",
            "1/1 [==============================] - 0s 13ms/step - loss: 1.2419 - mae: 1.2419\n",
            "Epoch 14/200\n",
            "1/1 [==============================] - 0s 11ms/step - loss: 1.3809 - mae: 1.3809\n",
            "Epoch 15/200\n",
            "1/1 [==============================] - 0s 11ms/step - loss: 1.4141 - mae: 1.4141\n",
            "Epoch 16/200\n",
            "1/1 [==============================] - 0s 13ms/step - loss: 1.3613 - mae: 1.3613\n",
            "Epoch 17/200\n",
            "1/1 [==============================] - 0s 12ms/step - loss: 1.2390 - mae: 1.2390\n",
            "Epoch 18/200\n",
            "1/1 [==============================] - 0s 10ms/step - loss: 1.1090 - mae: 1.1090\n",
            "Epoch 19/200\n",
            "1/1 [==============================] - 0s 12ms/step - loss: 0.9772 - mae: 0.9772\n",
            "Epoch 20/200\n",
            "1/1 [==============================] - 0s 12ms/step - loss: 0.8333 - mae: 0.8333\n",
            "Epoch 21/200\n",
            "1/1 [==============================] - 0s 11ms/step - loss: 0.7190 - mae: 0.7190\n",
            "Epoch 22/200\n",
            "1/1 [==============================] - 0s 13ms/step - loss: 0.6797 - mae: 0.6797\n",
            "Epoch 23/200\n",
            "1/1 [==============================] - 0s 11ms/step - loss: 0.7071 - mae: 0.7071\n",
            "Epoch 24/200\n",
            "1/1 [==============================] - 0s 12ms/step - loss: 0.7769 - mae: 0.7769\n",
            "Epoch 25/200\n",
            "1/1 [==============================] - 0s 11ms/step - loss: 0.8464 - mae: 0.8464\n",
            "Epoch 26/200\n",
            "1/1 [==============================] - 0s 12ms/step - loss: 0.8251 - mae: 0.8251\n",
            "Epoch 27/200\n",
            "1/1 [==============================] - 0s 12ms/step - loss: 0.7294 - mae: 0.7294\n",
            "Epoch 28/200\n",
            "1/1 [==============================] - 0s 11ms/step - loss: 0.6746 - mae: 0.6746\n",
            "Epoch 29/200\n",
            "1/1 [==============================] - 0s 12ms/step - loss: 0.6105 - mae: 0.6105\n",
            "Epoch 30/200\n",
            "1/1 [==============================] - 0s 11ms/step - loss: 0.6030 - mae: 0.6030\n",
            "Epoch 31/200\n",
            "1/1 [==============================] - 0s 14ms/step - loss: 0.6068 - mae: 0.6068\n",
            "Epoch 32/200\n",
            "1/1 [==============================] - 0s 13ms/step - loss: 0.6073 - mae: 0.6073\n",
            "Epoch 33/200\n",
            "1/1 [==============================] - 0s 12ms/step - loss: 0.6367 - mae: 0.6367\n",
            "Epoch 34/200\n",
            "1/1 [==============================] - 0s 11ms/step - loss: 0.6461 - mae: 0.6461\n",
            "Epoch 35/200\n",
            "1/1 [==============================] - 0s 11ms/step - loss: 0.6287 - mae: 0.6287\n",
            "Epoch 36/200\n",
            "1/1 [==============================] - 0s 13ms/step - loss: 0.5874 - mae: 0.5874\n",
            "Epoch 37/200\n",
            "1/1 [==============================] - 0s 14ms/step - loss: 0.5350 - mae: 0.5350\n",
            "Epoch 38/200\n",
            "1/1 [==============================] - 0s 11ms/step - loss: 0.5095 - mae: 0.5095\n",
            "Epoch 39/200\n",
            "1/1 [==============================] - 0s 11ms/step - loss: 0.4835 - mae: 0.4835\n",
            "Epoch 40/200\n",
            "1/1 [==============================] - 0s 11ms/step - loss: 0.4571 - mae: 0.4571\n",
            "Epoch 41/200\n",
            "1/1 [==============================] - 0s 11ms/step - loss: 0.4729 - mae: 0.4729\n",
            "Epoch 42/200\n",
            "1/1 [==============================] - 0s 11ms/step - loss: 0.4797 - mae: 0.4797\n",
            "Epoch 43/200\n",
            "1/1 [==============================] - 0s 13ms/step - loss: 0.4695 - mae: 0.4695\n",
            "Epoch 44/200\n",
            "1/1 [==============================] - 0s 18ms/step - loss: 0.4437 - mae: 0.4437\n",
            "Epoch 45/200\n",
            "1/1 [==============================] - 0s 15ms/step - loss: 0.4034 - mae: 0.4034\n",
            "Epoch 46/200\n",
            "1/1 [==============================] - 0s 12ms/step - loss: 0.3572 - mae: 0.3572\n",
            "Epoch 47/200\n",
            "1/1 [==============================] - 0s 11ms/step - loss: 0.3467 - mae: 0.3467\n",
            "Epoch 48/200\n",
            "1/1 [==============================] - 0s 11ms/step - loss: 0.3339 - mae: 0.3339\n",
            "Epoch 49/200\n",
            "1/1 [==============================] - 0s 11ms/step - loss: 0.3189 - mae: 0.3189\n",
            "Epoch 50/200\n",
            "1/1 [==============================] - 0s 11ms/step - loss: 0.3078 - mae: 0.3078\n",
            "Epoch 51/200\n",
            "1/1 [==============================] - 0s 11ms/step - loss: 0.2792 - mae: 0.2792\n",
            "Epoch 52/200\n",
            "1/1 [==============================] - 0s 11ms/step - loss: 0.2515 - mae: 0.2515\n",
            "Epoch 53/200\n",
            "1/1 [==============================] - 0s 16ms/step - loss: 0.2231 - mae: 0.2231\n",
            "Epoch 54/200\n",
            "1/1 [==============================] - 0s 13ms/step - loss: 0.2257 - mae: 0.2257\n",
            "Epoch 55/200\n",
            "1/1 [==============================] - 0s 13ms/step - loss: 0.2264 - mae: 0.2264\n",
            "Epoch 56/200\n",
            "1/1 [==============================] - 0s 11ms/step - loss: 0.1669 - mae: 0.1669\n",
            "Epoch 57/200\n",
            "1/1 [==============================] - 0s 11ms/step - loss: 0.1455 - mae: 0.1455\n",
            "Epoch 58/200\n",
            "1/1 [==============================] - 0s 14ms/step - loss: 0.1742 - mae: 0.1742\n",
            "Epoch 59/200\n",
            "1/1 [==============================] - 0s 11ms/step - loss: 0.1846 - mae: 0.1846\n",
            "Epoch 60/200\n",
            "1/1 [==============================] - 0s 15ms/step - loss: 0.1283 - mae: 0.1283\n",
            "Epoch 61/200\n",
            "1/1 [==============================] - 0s 12ms/step - loss: 0.0546 - mae: 0.0546\n",
            "Epoch 62/200\n",
            "1/1 [==============================] - 0s 12ms/step - loss: 0.1179 - mae: 0.1179\n",
            "Epoch 63/200\n",
            "1/1 [==============================] - 0s 12ms/step - loss: 0.0723 - mae: 0.0723\n",
            "Epoch 64/200\n",
            "1/1 [==============================] - 0s 12ms/step - loss: 0.0824 - mae: 0.0824\n",
            "Epoch 65/200\n",
            "1/1 [==============================] - 0s 13ms/step - loss: 0.1060 - mae: 0.1060\n",
            "Epoch 66/200\n",
            "1/1 [==============================] - 0s 13ms/step - loss: 0.0333 - mae: 0.0333\n",
            "Epoch 67/200\n",
            "1/1 [==============================] - 0s 11ms/step - loss: 0.0777 - mae: 0.0777\n",
            "Epoch 68/200\n",
            "1/1 [==============================] - 0s 11ms/step - loss: 0.0700 - mae: 0.0700\n",
            "Epoch 69/200\n",
            "1/1 [==============================] - 0s 11ms/step - loss: 0.0507 - mae: 0.0507\n",
            "Epoch 70/200\n",
            "1/1 [==============================] - 0s 13ms/step - loss: 0.1041 - mae: 0.1041\n",
            "Epoch 71/200\n",
            "1/1 [==============================] - 0s 15ms/step - loss: 0.0573 - mae: 0.0573\n",
            "Epoch 72/200\n",
            "1/1 [==============================] - 0s 14ms/step - loss: 0.0643 - mae: 0.0643\n",
            "Epoch 73/200\n",
            "1/1 [==============================] - 0s 11ms/step - loss: 0.0772 - mae: 0.0772\n",
            "Epoch 74/200\n",
            "1/1 [==============================] - 0s 11ms/step - loss: 0.0352 - mae: 0.0352\n",
            "Epoch 75/200\n",
            "1/1 [==============================] - 0s 11ms/step - loss: 0.1065 - mae: 0.1065\n",
            "Epoch 76/200\n",
            "1/1 [==============================] - 0s 12ms/step - loss: 0.0915 - mae: 0.0915\n",
            "Epoch 77/200\n",
            "1/1 [==============================] - 0s 13ms/step - loss: 0.0305 - mae: 0.0305\n",
            "Epoch 78/200\n",
            "1/1 [==============================] - 0s 10ms/step - loss: 0.0322 - mae: 0.0322\n",
            "Epoch 79/200\n",
            "1/1 [==============================] - 0s 10ms/step - loss: 0.0711 - mae: 0.0711\n",
            "Epoch 80/200\n",
            "1/1 [==============================] - 0s 11ms/step - loss: 0.0587 - mae: 0.0587\n",
            "Epoch 81/200\n",
            "1/1 [==============================] - 0s 11ms/step - loss: 0.0552 - mae: 0.0552\n",
            "Epoch 82/200\n",
            "1/1 [==============================] - 0s 10ms/step - loss: 0.0555 - mae: 0.0555\n",
            "Epoch 83/200\n",
            "1/1 [==============================] - 0s 13ms/step - loss: 0.0511 - mae: 0.0511\n",
            "Epoch 84/200\n",
            "1/1 [==============================] - 0s 12ms/step - loss: 0.0608 - mae: 0.0608\n",
            "Epoch 85/200\n",
            "1/1 [==============================] - 0s 11ms/step - loss: 0.0254 - mae: 0.0254\n",
            "Epoch 86/200\n",
            "1/1 [==============================] - 0s 12ms/step - loss: 0.0829 - mae: 0.0829\n",
            "Epoch 87/200\n",
            "1/1 [==============================] - 0s 12ms/step - loss: 0.0463 - mae: 0.0463\n",
            "Epoch 88/200\n",
            "1/1 [==============================] - 0s 12ms/step - loss: 0.0852 - mae: 0.0852\n",
            "Epoch 89/200\n",
            "1/1 [==============================] - 0s 13ms/step - loss: 0.1040 - mae: 0.1040\n",
            "Epoch 90/200\n",
            "1/1 [==============================] - 0s 12ms/step - loss: 0.0272 - mae: 0.0272\n",
            "Epoch 91/200\n",
            "1/1 [==============================] - 0s 12ms/step - loss: 0.1265 - mae: 0.1265\n",
            "Epoch 92/200\n",
            "1/1 [==============================] - 0s 12ms/step - loss: 0.1640 - mae: 0.1640\n",
            "Epoch 93/200\n",
            "1/1 [==============================] - 0s 11ms/step - loss: 0.1031 - mae: 0.1031\n",
            "Epoch 94/200\n",
            "1/1 [==============================] - 0s 11ms/step - loss: 0.0466 - mae: 0.0466\n",
            "Epoch 95/200\n",
            "1/1 [==============================] - 0s 11ms/step - loss: 0.0855 - mae: 0.0855\n",
            "Epoch 96/200\n",
            "1/1 [==============================] - 0s 12ms/step - loss: 0.0249 - mae: 0.0249\n",
            "Epoch 97/200\n",
            "1/1 [==============================] - 0s 13ms/step - loss: 0.1230 - mae: 0.1230\n",
            "Epoch 98/200\n",
            "1/1 [==============================] - 0s 12ms/step - loss: 0.1626 - mae: 0.1626\n",
            "Epoch 99/200\n",
            "1/1 [==============================] - 0s 11ms/step - loss: 0.1067 - mae: 0.1067\n",
            "Epoch 100/200\n",
            "1/1 [==============================] - 0s 10ms/step - loss: 0.0355 - mae: 0.0355\n",
            "Epoch 101/200\n",
            "1/1 [==============================] - 0s 11ms/step - loss: 0.0708 - mae: 0.0708\n",
            "Epoch 102/200\n",
            "1/1 [==============================] - 0s 12ms/step - loss: 0.0100 - mae: 0.0100\n",
            "Epoch 103/200\n",
            "1/1 [==============================] - 0s 13ms/step - loss: 0.1349 - mae: 0.1349\n",
            "Epoch 104/200\n",
            "1/1 [==============================] - 0s 14ms/step - loss: 0.1749 - mae: 0.1749\n",
            "Epoch 105/200\n",
            "1/1 [==============================] - 0s 17ms/step - loss: 0.1222 - mae: 0.1222\n",
            "Epoch 106/200\n",
            "1/1 [==============================] - 0s 13ms/step - loss: 0.0143 - mae: 0.0143\n",
            "Epoch 107/200\n",
            "1/1 [==============================] - 0s 12ms/step - loss: 0.0474 - mae: 0.0474\n",
            "Epoch 108/200\n",
            "1/1 [==============================] - 0s 11ms/step - loss: 0.0157 - mae: 0.0157\n",
            "Epoch 109/200\n",
            "1/1 [==============================] - 0s 11ms/step - loss: 0.0071 - mae: 0.0071\n",
            "Epoch 110/200\n",
            "1/1 [==============================] - 0s 10ms/step - loss: 0.0247 - mae: 0.0247\n",
            "Epoch 111/200\n",
            "1/1 [==============================] - 0s 11ms/step - loss: 0.0452 - mae: 0.0452\n",
            "Epoch 112/200\n",
            "1/1 [==============================] - 0s 10ms/step - loss: 0.0199 - mae: 0.0199\n",
            "Epoch 113/200\n",
            "1/1 [==============================] - 0s 10ms/step - loss: 0.0908 - mae: 0.0908\n",
            "Epoch 114/200\n",
            "1/1 [==============================] - 0s 10ms/step - loss: 0.1018 - mae: 0.1018\n",
            "Epoch 115/200\n",
            "1/1 [==============================] - 0s 10ms/step - loss: 0.0268 - mae: 0.0268\n",
            "Epoch 116/200\n",
            "1/1 [==============================] - 0s 10ms/step - loss: 0.1135 - mae: 0.1135\n",
            "Epoch 117/200\n",
            "1/1 [==============================] - 0s 10ms/step - loss: 0.1510 - mae: 0.1510\n",
            "Epoch 118/200\n",
            "1/1 [==============================] - 0s 10ms/step - loss: 0.1001 - mae: 0.1001\n",
            "Epoch 119/200\n",
            "1/1 [==============================] - 0s 11ms/step - loss: 0.0337 - mae: 0.0337\n",
            "Epoch 120/200\n",
            "1/1 [==============================] - 0s 10ms/step - loss: 0.0817 - mae: 0.0817\n",
            "Epoch 121/200\n",
            "1/1 [==============================] - 0s 10ms/step - loss: 0.0412 - mae: 0.0412\n",
            "Epoch 122/200\n",
            "1/1 [==============================] - 0s 11ms/step - loss: 0.0803 - mae: 0.0803\n",
            "Epoch 123/200\n",
            "1/1 [==============================] - 0s 15ms/step - loss: 0.1048 - mae: 0.1048\n",
            "Epoch 124/200\n",
            "1/1 [==============================] - 0s 13ms/step - loss: 0.0432 - mae: 0.0432\n",
            "Epoch 125/200\n",
            "1/1 [==============================] - 0s 10ms/step - loss: 0.0967 - mae: 0.0967\n",
            "Epoch 126/200\n",
            "1/1 [==============================] - 0s 12ms/step - loss: 0.1377 - mae: 0.1377\n",
            "Epoch 127/200\n",
            "1/1 [==============================] - 0s 12ms/step - loss: 0.0893 - mae: 0.0893\n",
            "Epoch 128/200\n",
            "1/1 [==============================] - 0s 13ms/step - loss: 0.0382 - mae: 0.0382\n",
            "Epoch 129/200\n",
            "1/1 [==============================] - 0s 14ms/step - loss: 0.0691 - mae: 0.0691\n",
            "Epoch 130/200\n",
            "1/1 [==============================] - 0s 10ms/step - loss: 0.0144 - mae: 0.0144\n",
            "Epoch 131/200\n",
            "1/1 [==============================] - 0s 10ms/step - loss: 0.1181 - mae: 0.1181\n",
            "Epoch 132/200\n",
            "1/1 [==============================] - 0s 11ms/step - loss: 0.1536 - mae: 0.1536\n",
            "Epoch 133/200\n",
            "1/1 [==============================] - 0s 12ms/step - loss: 0.1016 - mae: 0.1016\n",
            "Epoch 134/200\n",
            "1/1 [==============================] - 0s 13ms/step - loss: 0.0277 - mae: 0.0277\n",
            "Epoch 135/200\n",
            "1/1 [==============================] - 0s 9ms/step - loss: 0.0615 - mae: 0.0615\n",
            "Epoch 136/200\n",
            "1/1 [==============================] - 0s 10ms/step - loss: 0.0108 - mae: 0.0108\n",
            "Epoch 137/200\n",
            "1/1 [==============================] - 0s 9ms/step - loss: 0.1166 - mae: 0.1166\n",
            "Epoch 138/200\n",
            "1/1 [==============================] - 0s 9ms/step - loss: 0.1490 - mae: 0.1490\n",
            "Epoch 139/200\n",
            "1/1 [==============================] - 0s 10ms/step - loss: 0.0957 - mae: 0.0957\n",
            "Epoch 140/200\n",
            "1/1 [==============================] - 0s 10ms/step - loss: 0.0333 - mae: 0.0333\n",
            "Epoch 141/200\n",
            "1/1 [==============================] - 0s 10ms/step - loss: 0.0684 - mae: 0.0684\n",
            "Epoch 142/200\n",
            "1/1 [==============================] - 0s 11ms/step - loss: 0.0202 - mae: 0.0202\n",
            "Epoch 143/200\n",
            "1/1 [==============================] - 0s 9ms/step - loss: 0.1036 - mae: 0.1036\n",
            "Epoch 144/200\n",
            "1/1 [==============================] - 0s 10ms/step - loss: 0.1342 - mae: 0.1342\n",
            "Epoch 145/200\n",
            "1/1 [==============================] - 0s 9ms/step - loss: 0.0807 - mae: 0.0807\n",
            "Epoch 146/200\n",
            "1/1 [==============================] - 0s 10ms/step - loss: 0.0471 - mae: 0.0471\n",
            "Epoch 147/200\n",
            "1/1 [==============================] - 0s 10ms/step - loss: 0.0825 - mae: 0.0825\n",
            "Epoch 148/200\n",
            "1/1 [==============================] - 0s 11ms/step - loss: 0.0359 - mae: 0.0359\n",
            "Epoch 149/200\n",
            "1/1 [==============================] - 0s 11ms/step - loss: 0.0851 - mae: 0.0851\n",
            "Epoch 150/200\n",
            "1/1 [==============================] - 0s 12ms/step - loss: 0.1145 - mae: 0.1145\n",
            "Epoch 151/200\n",
            "1/1 [==============================] - 0s 14ms/step - loss: 0.0613 - mae: 0.0613\n",
            "Epoch 152/200\n",
            "1/1 [==============================] - 0s 13ms/step - loss: 0.0649 - mae: 0.0649\n",
            "Epoch 153/200\n",
            "1/1 [==============================] - 0s 14ms/step - loss: 0.1001 - mae: 0.1001\n",
            "Epoch 154/200\n",
            "1/1 [==============================] - 0s 12ms/step - loss: 0.0546 - mae: 0.0546\n",
            "Epoch 155/200\n",
            "1/1 [==============================] - 0s 10ms/step - loss: 0.0640 - mae: 0.0640\n",
            "Epoch 156/200\n",
            "1/1 [==============================] - 0s 10ms/step - loss: 0.0927 - mae: 0.0927\n",
            "Epoch 157/200\n",
            "1/1 [==============================] - 0s 10ms/step - loss: 0.0411 - mae: 0.0411\n",
            "Epoch 158/200\n",
            "1/1 [==============================] - 0s 9ms/step - loss: 0.0680 - mae: 0.0680\n",
            "Epoch 159/200\n",
            "1/1 [==============================] - 0s 11ms/step - loss: 0.0880 - mae: 0.0880\n",
            "Epoch 160/200\n",
            "1/1 [==============================] - 0s 14ms/step - loss: 0.0294 - mae: 0.0294\n",
            "Epoch 161/200\n",
            "1/1 [==============================] - 0s 10ms/step - loss: 0.1008 - mae: 0.1008\n",
            "Epoch 162/200\n",
            "1/1 [==============================] - 0s 10ms/step - loss: 0.1402 - mae: 0.1402\n",
            "Epoch 163/200\n",
            "1/1 [==============================] - 0s 10ms/step - loss: 0.0974 - mae: 0.0974\n",
            "Epoch 164/200\n",
            "1/1 [==============================] - 0s 10ms/step - loss: 0.0184 - mae: 0.0184\n",
            "Epoch 165/200\n",
            "1/1 [==============================] - 0s 13ms/step - loss: 0.0456 - mae: 0.0456\n",
            "Epoch 166/200\n",
            "1/1 [==============================] - 0s 10ms/step - loss: 0.0111 - mae: 0.0111\n",
            "Epoch 167/200\n",
            "1/1 [==============================] - 0s 10ms/step - loss: 0.0166 - mae: 0.0166\n",
            "Epoch 168/200\n",
            "1/1 [==============================] - 0s 11ms/step - loss: 0.0346 - mae: 0.0346\n",
            "Epoch 169/200\n",
            "1/1 [==============================] - 0s 11ms/step - loss: 0.0046 - mae: 0.0046\n",
            "Epoch 170/200\n",
            "1/1 [==============================] - 0s 10ms/step - loss: 0.0842 - mae: 0.0842\n",
            "Epoch 171/200\n",
            "1/1 [==============================] - 0s 11ms/step - loss: 0.0860 - mae: 0.0860\n",
            "Epoch 172/200\n",
            "1/1 [==============================] - 0s 10ms/step - loss: 0.0102 - mae: 0.0102\n",
            "Epoch 173/200\n",
            "1/1 [==============================] - 0s 12ms/step - loss: 0.1340 - mae: 0.1340\n",
            "Epoch 174/200\n",
            "1/1 [==============================] - 0s 13ms/step - loss: 0.1876 - mae: 0.1876\n",
            "Epoch 175/200\n",
            "1/1 [==============================] - 0s 13ms/step - loss: 0.1609 - mae: 0.1609\n",
            "Epoch 176/200\n",
            "1/1 [==============================] - 0s 15ms/step - loss: 0.0618 - mae: 0.0618\n",
            "Epoch 177/200\n",
            "1/1 [==============================] - 0s 12ms/step - loss: 0.1042 - mae: 0.1042\n",
            "Epoch 178/200\n",
            "1/1 [==============================] - 0s 12ms/step - loss: 0.1770 - mae: 0.1770\n",
            "Epoch 179/200\n",
            "1/1 [==============================] - 0s 17ms/step - loss: 0.1649 - mae: 0.1649\n",
            "Epoch 180/200\n",
            "1/1 [==============================] - 0s 14ms/step - loss: 0.0766 - mae: 0.0766\n",
            "Epoch 181/200\n",
            "1/1 [==============================] - 0s 12ms/step - loss: 0.0782 - mae: 0.0782\n",
            "Epoch 182/200\n",
            "1/1 [==============================] - 0s 11ms/step - loss: 0.1416 - mae: 0.1416\n",
            "Epoch 183/200\n",
            "1/1 [==============================] - 0s 14ms/step - loss: 0.1243 - mae: 0.1243\n",
            "Epoch 184/200\n",
            "1/1 [==============================] - 0s 14ms/step - loss: 0.0342 - mae: 0.0342\n",
            "Epoch 185/200\n",
            "1/1 [==============================] - 0s 13ms/step - loss: 0.1226 - mae: 0.1226\n",
            "Epoch 186/200\n",
            "1/1 [==============================] - 0s 15ms/step - loss: 0.1881 - mae: 0.1881\n",
            "Epoch 187/200\n",
            "1/1 [==============================] - 0s 10ms/step - loss: 0.1702 - mae: 0.1702\n",
            "Epoch 188/200\n",
            "1/1 [==============================] - 0s 14ms/step - loss: 0.0779 - mae: 0.0779\n",
            "Epoch 189/200\n",
            "1/1 [==============================] - 0s 11ms/step - loss: 0.0795 - mae: 0.0795\n",
            "Epoch 190/200\n",
            "1/1 [==============================] - 0s 10ms/step - loss: 0.1461 - mae: 0.1461\n",
            "Epoch 191/200\n",
            "1/1 [==============================] - 0s 12ms/step - loss: 0.1329 - mae: 0.1329\n",
            "Epoch 192/200\n",
            "1/1 [==============================] - 0s 10ms/step - loss: 0.0477 - mae: 0.0477\n",
            "Epoch 193/200\n",
            "1/1 [==============================] - 0s 10ms/step - loss: 0.1034 - mae: 0.1034\n",
            "Epoch 194/200\n",
            "1/1 [==============================] - 0s 12ms/step - loss: 0.1650 - mae: 0.1650\n",
            "Epoch 195/200\n",
            "1/1 [==============================] - 0s 10ms/step - loss: 0.1449 - mae: 0.1449\n",
            "Epoch 196/200\n",
            "1/1 [==============================] - 0s 14ms/step - loss: 0.0521 - mae: 0.0521\n",
            "Epoch 197/200\n",
            "1/1 [==============================] - 0s 16ms/step - loss: 0.1044 - mae: 0.1044\n",
            "Epoch 198/200\n",
            "1/1 [==============================] - 0s 17ms/step - loss: 0.1716 - mae: 0.1716\n",
            "Epoch 199/200\n",
            "1/1 [==============================] - 0s 13ms/step - loss: 0.1601 - mae: 0.1601\n",
            "Epoch 200/200\n",
            "1/1 [==============================] - 0s 12ms/step - loss: 0.0779 - mae: 0.0779\n"
          ]
        },
        {
          "output_type": "execute_result",
          "data": {
            "text/plain": [
              "<keras.src.callbacks.History at 0x78111d5d04c0>"
            ]
          },
          "metadata": {},
          "execution_count": 40
        }
      ]
    },
    {
      "cell_type": "code",
      "source": [
        "model.predict([6])"
      ],
      "metadata": {
        "colab": {
          "base_uri": "https://localhost:8080/"
        },
        "id": "zkSwH5HBSkqD",
        "outputId": "291260c9-9d12-4ff1-f21f-d19b0965eec3"
      },
      "execution_count": null,
      "outputs": [
        {
          "output_type": "stream",
          "name": "stdout",
          "text": [
            "1/1 [==============================] - 0s 113ms/step\n"
          ]
        },
        {
          "output_type": "execute_result",
          "data": {
            "text/plain": [
              "array([[9.107294]], dtype=float32)"
            ]
          },
          "metadata": {},
          "execution_count": 41
        }
      ]
    },
    {
      "cell_type": "code",
      "source": [
        "X = tf.range(-50 , 150 ,3)\n",
        "X"
      ],
      "metadata": {
        "colab": {
          "base_uri": "https://localhost:8080/"
        },
        "id": "fSEUPDxHt39R",
        "outputId": "74d32619-a3e6-43aa-eda1-50c8b881bd0c"
      },
      "execution_count": null,
      "outputs": [
        {
          "output_type": "execute_result",
          "data": {
            "text/plain": [
              "<tf.Tensor: shape=(67,), dtype=int32, numpy=\n",
              "array([-50, -47, -44, -41, -38, -35, -32, -29, -26, -23, -20, -17, -14,\n",
              "       -11,  -8,  -5,  -2,   1,   4,   7,  10,  13,  16,  19,  22,  25,\n",
              "        28,  31,  34,  37,  40,  43,  46,  49,  52,  55,  58,  61,  64,\n",
              "        67,  70,  73,  76,  79,  82,  85,  88,  91,  94,  97, 100, 103,\n",
              "       106, 109, 112, 115, 118, 121, 124, 127, 130, 133, 136, 139, 142,\n",
              "       145, 148], dtype=int32)>"
            ]
          },
          "metadata": {},
          "execution_count": 42
        }
      ]
    },
    {
      "cell_type": "code",
      "source": [
        "Y = X-5\n",
        "Y"
      ],
      "metadata": {
        "colab": {
          "base_uri": "https://localhost:8080/"
        },
        "id": "B0qEfmZ7uZgS",
        "outputId": "456e0b3e-be08-412d-f480-f68a91535aed"
      },
      "execution_count": null,
      "outputs": [
        {
          "output_type": "execute_result",
          "data": {
            "text/plain": [
              "<tf.Tensor: shape=(67,), dtype=int32, numpy=\n",
              "array([-55, -52, -49, -46, -43, -40, -37, -34, -31, -28, -25, -22, -19,\n",
              "       -16, -13, -10,  -7,  -4,  -1,   2,   5,   8,  11,  14,  17,  20,\n",
              "        23,  26,  29,  32,  35,  38,  41,  44,  47,  50,  53,  56,  59,\n",
              "        62,  65,  68,  71,  74,  77,  80,  83,  86,  89,  92,  95,  98,\n",
              "       101, 104, 107, 110, 113, 116, 119, 122, 125, 128, 131, 134, 137,\n",
              "       140, 143], dtype=int32)>"
            ]
          },
          "metadata": {},
          "execution_count": 43
        }
      ]
    },
    {
      "cell_type": "code",
      "source": [
        "#spilt into traning and test data\n",
        "X_train = X[:54]\n",
        "X_test = X[54:]\n",
        "\n",
        "Y_train = Y[:54]\n",
        "Y_teat = Y[54:]\n",
        "len(X_train),len(X_test)"
      ],
      "metadata": {
        "colab": {
          "base_uri": "https://localhost:8080/"
        },
        "id": "dQHEsPhiugRy",
        "outputId": "e3b85951-6934-45c3-b581-d7514d6e2836"
      },
      "execution_count": null,
      "outputs": [
        {
          "output_type": "execute_result",
          "data": {
            "text/plain": [
              "(54, 13)"
            ]
          },
          "metadata": {},
          "execution_count": 44
        }
      ]
    },
    {
      "cell_type": "code",
      "source": [
        "plt.figure(figsize=(9,8))\n",
        "plt.scatter(X_train , Y_train , c=\"r\",label=\"Training data\")\n",
        "plt.scatter(X_test , Y_teat , c=\"m\",label=\"Test data\")\n",
        "plt.legend();"
      ],
      "metadata": {
        "colab": {
          "base_uri": "https://localhost:8080/",
          "height": 676
        },
        "id": "ev2ESVsHwLZf",
        "outputId": "e65a3645-d3fb-4370-e02f-8d44ba1abbab"
      },
      "execution_count": null,
      "outputs": [
        {
          "output_type": "display_data",
          "data": {
            "text/plain": [
              "<Figure size 900x800 with 1 Axes>"
            ],
            "image/png": "[encoded data removed]"
          },
          "metadata": {}
        }
      ]
    },
    {
      "cell_type": "markdown",
      "source": [
        "**just extra expirement**"
      ],
      "metadata": {
        "id": "gZKPURvFzK91"
      }
    },
    {
      "cell_type": "code",
      "source": [
        "from matplotlib.lines import MarkerStyle\n",
        "x = [1,2,4,8,9,6,3,7]\n",
        "y= [4,5,9,6,3,7,10,8]\n",
        "plt.plot(x,y,c=\"r\",marker = 'o',markerfacecolor='m')\n",
        "plt.show()"
      ],
      "metadata": {
        "colab": {
          "base_uri": "https://localhost:8080/",
          "height": 430
        },
        "id": "OZOlNyjhx5Ls",
        "outputId": "86ff0f7a-a399-4a6a-bc8a-7b409bf1fa05"
      },
      "execution_count": null,
      "outputs": [
        {
          "output_type": "display_data",
          "data": {
            "text/plain": [
              "<Figure size 640x480 with 1 Axes>"
            ],
            "image/png": "[encoded data removed]"
          },
          "metadata": {}
        }
      ]
    },
    {
      "cell_type": "code",
      "source": [
        "x = [1, 2, 3, 4]\n",
        "y= [1, 4, 9, 16]\n",
        "\n",
        "plt.plot(x, y, marker = '^', markerfacecolor = 'r')"
      ],
      "metadata": {
        "colab": {
          "base_uri": "https://localhost:8080/",
          "height": 447
        },
        "id": "WoebgvD8ytnH",
        "outputId": "0df27f2f-a2eb-4d9f-cc9c-048a8637b285"
      },
      "execution_count": null,
      "outputs": [
        {
          "output_type": "execute_result",
          "data": {
            "text/plain": [
              "[<matplotlib.lines.Line2D at 0x78111c1bdf60>]"
            ]
          },
          "metadata": {},
          "execution_count": 47
        },
        {
          "output_type": "display_data",
          "data": {
            "text/plain": [
              "<Figure size 640x480 with 1 Axes>"
            ],
            "image/png": "[encoded data removed]"
          },
          "metadata": {}
        }
      ]
    },
    {
      "cell_type": "markdown",
      "source": [
        "https://www.google.com/search?sca_esv=573098824&tbm=vid&sxsrf=AM9HkKmMV-EgtGzloLrLxtM5x5lnu19q2g:1697177386871&q=mit+introduction+to+deep+learning&sa=X&ved=2ahUKEwjjoo-6rvKBAxXFcfEDHceYDqAQ8ccDegQIExAH&biw=1536&bih=747&dpr=1.25#fpstate=ive&vld=cid:7461ecff,vid:QDX-1M5Nj7s,st:0\n",
        "**watch it so important**"
      ],
      "metadata": {
        "id": "U33WCBuNrSe2"
      }
    },
    {
      "cell_type": "code",
      "source": [
        "model=tf.keras.Sequential([\n",
        "    tf.keras.layers.Dense(1,input_shape=[1])\n",
        "])\n",
        "model.compile(loss=tf.keras.losses.mae,\n",
        "              optimizer=tf.keras.optimizers.SGD(),\n",
        "              metrics=[\"mae\"])"
      ],
      "metadata": {
        "id": "lNUxNMx_rf19"
      },
      "execution_count": null,
      "outputs": []
    },
    {
      "cell_type": "code",
      "source": [
        "model.summary()"
      ],
      "metadata": {
        "colab": {
          "base_uri": "https://localhost:8080/"
        },
        "id": "uPt_lPbrX5j-",
        "outputId": "5587c9b1-5888-4723-8989-afc30b164a87"
      },
      "execution_count": null,
      "outputs": [
        {
          "output_type": "stream",
          "name": "stdout",
          "text": [
            "Model: \"sequential_1\"\n",
            "_________________________________________________________________\n",
            " Layer (type)                Output Shape              Param #   \n",
            "=================================================================\n",
            " dense_2 (Dense)             (None, 1)                 2         \n",
            "                                                                 \n",
            "=================================================================\n",
            "Total params: 2 (8.00 Byte)\n",
            "Trainable params: 2 (8.00 Byte)\n",
            "Non-trainable params: 0 (0.00 Byte)\n",
            "_________________________________________________________________\n"
          ]
        }
      ]
    },
    {
      "cell_type": "code",
      "source": [
        "model.fit(X_train,Y_train,epochs=100,verbose=0)"
      ],
      "metadata": {
        "colab": {
          "base_uri": "https://localhost:8080/"
        },
        "id": "ymQYap6DYFE-",
        "outputId": "07943f06-eeb2-483c-de83-f72c9bc4ccc6"
      },
      "execution_count": null,
      "outputs": [
        {
          "output_type": "execute_result",
          "data": {
            "text/plain": [
              "<keras.src.callbacks.History at 0x78111c202350>"
            ]
          },
          "metadata": {},
          "execution_count": 50
        }
      ]
    },
    {
      "cell_type": "code",
      "source": [
        "from tensorflow.keras.utils import plot_model\n",
        "plot_model(model , show_shapes=True)"
      ],
      "metadata": {
        "colab": {
          "base_uri": "https://localhost:8080/",
          "height": 201
        },
        "id": "aZwmHDwLYuoR",
        "outputId": "de12fa0c-7f41-4bde-ef01-46a1980d2c89"
      },
      "execution_count": null,
      "outputs": [
        {
          "output_type": "execute_result",
          "data": {
            "image/png": "[encoded data removed]",
            "text/plain": [
              "<IPython.core.display.Image object>"
            ]
          },
          "metadata": {},
          "execution_count": 51
        }
      ]
    },
    {
      "cell_type": "code",
      "source": [
        "from tensorflow.keras.utils import plot_model\n",
        "plot_model(model )"
      ],
      "metadata": {
        "colab": {
          "base_uri": "https://localhost:8080/",
          "height": 174
        },
        "id": "afFLfSin1TgU",
        "outputId": "dbf5b9d4-b26d-4741-a4ec-4df36a056b9c"
      },
      "execution_count": null,
      "outputs": [
        {
          "output_type": "execute_result",
          "data": {
            "image/png": "[encoded data removed]",
            "text/plain": [
              "<IPython.core.display.Image object>"
            ]
          },
          "metadata": {},
          "execution_count": 52
        }
      ]
    },
    {
      "cell_type": "code",
      "source": [
        "def predictions(training_data = X_train ,\n",
        "                training_label = Y_train,\n",
        "                test_data = X_test,\n",
        "                test_label = Y_teat,\n",
        "                prediction=y_pred) :\n",
        "  plt.figure(figsize=(9,8))\n",
        "  plt.scatter(training_data , training_label , c=\"r\",label=\"Training data\")\n",
        "  plt.scatter(test_data , test_label ,c=\"m\",label=\"Test data\")\n",
        "  plt.scatter(test_data ,prediction , c=\"b\",label=\"Predictions\")\n",
        "  plt.legend();"
      ],
      "metadata": {
        "id": "b9Ll-5-Gcnwz"
      },
      "execution_count": null,
      "outputs": []
    },
    {
      "cell_type": "code",
      "source": [
        "predictions(X_train , Y_train,\n",
        "            X_test , Y_teat,\n",
        "            y_pred)"
      ],
      "metadata": {
        "colab": {
          "base_uri": "https://localhost:8080/",
          "height": 676
        },
        "id": "K8cFYWlMcqzQ",
        "outputId": "3906e2a0-95f0-4bd1-ac80-199e6c8b3946"
      },
      "execution_count": null,
      "outputs": [
        {
          "output_type": "display_data",
          "data": {
            "text/plain": [
              "<Figure size 900x800 with 1 Axes>"
            ],
            "image/png": "[encoded data removed]"
          },
          "metadata": {}
        }
      ]
    },
    {
      "cell_type": "code",
      "source": [
        "y_pred = model.predict(X_test)"
      ],
      "metadata": {
        "colab": {
          "base_uri": "https://localhost:8080/"
        },
        "id": "2P7RUV8v78Eu",
        "outputId": "30b9dd06-3eff-448d-f243-20ae52cc7c06"
      },
      "execution_count": null,
      "outputs": [
        {
          "output_type": "stream",
          "name": "stdout",
          "text": [
            "1/1 [==============================] - 0s 59ms/step\n"
          ]
        }
      ]
    },
    {
      "cell_type": "code",
      "source": [
        "y_pred = tf.constant(y_pred)"
      ],
      "metadata": {
        "id": "6bJPyjor8SoR"
      },
      "execution_count": null,
      "outputs": []
    },
    {
      "cell_type": "code",
      "source": [
        "model.evaluate(X_test, Y_teat)"
      ],
      "metadata": {
        "id": "_YXyHHrk9aPK",
        "colab": {
          "base_uri": "https://localhost:8080/"
        },
        "outputId": "da10a90a-ef99-4622-a313-7bd597930eef"
      },
      "execution_count": null,
      "outputs": [
        {
          "output_type": "stream",
          "name": "stdout",
          "text": [
            "1/1 [==============================] - 0s 145ms/step - loss: 29.7763 - mae: 29.7763\n"
          ]
        },
        {
          "output_type": "execute_result",
          "data": {
            "text/plain": [
              "[29.776268005371094, 29.776268005371094]"
            ]
          },
          "metadata": {},
          "execution_count": 59
        }
      ]
    },
    {
      "cell_type": "code",
      "source": [
        "## Test\n",
        "\n",
        "mae = tf.metrics.mean_absolute_error(y_true=Y_teat, y_pred=tf.squeeze(y_pred))\n",
        "print(mae)\n",
        "\n",
        "mse = tf.metrics.mean_squared_error(y_true=Y_teat, y_pred=tf.squeeze(y_pred))\n",
        "mse"
      ],
      "metadata": {
        "id": "ywndAp_zN_Q6",
        "colab": {
          "base_uri": "https://localhost:8080/"
        },
        "outputId": "b9a3aee6-fee9-4382-af01-b361d877bc8b"
      },
      "execution_count": null,
      "outputs": [
        {
          "output_type": "stream",
          "name": "stdout",
          "text": [
            "tf.Tensor(29.776268, shape=(), dtype=float32)\n"
          ]
        },
        {
          "output_type": "execute_result",
          "data": {
            "text/plain": [
              "<tf.Tensor: shape=(), dtype=float32, numpy=895.3065>"
            ]
          },
          "metadata": {},
          "execution_count": 60
        }
      ]
    },
    {
      "cell_type": "code",
      "source": [
        "def mae(y_test, y_pred):\n",
        "  return tf.metrics.mean_absolute_error(y_test,\n",
        "                                        tf.squeeze(y_pred))\n",
        "def mse(y_test, y_pred):\n",
        "  return tf.metrics.mean_squared_error(y_test,\n",
        "                                       tf.squeeze(y_pred))"
      ],
      "metadata": {
        "id": "CsodpANSCXGE"
      },
      "execution_count": null,
      "outputs": []
    },
    {
      "cell_type": "code",
      "source": [
        "mae(Y_teat , y_pred)"
      ],
      "metadata": {
        "colab": {
          "base_uri": "https://localhost:8080/"
        },
        "id": "bPCJVyWAdcNx",
        "outputId": "b630bfaa-5d69-484c-d5c6-2026517a0eed"
      },
      "execution_count": null,
      "outputs": [
        {
          "output_type": "execute_result",
          "data": {
            "text/plain": [
              "<tf.Tensor: shape=(), dtype=float32, numpy=29.776268>"
            ]
          },
          "metadata": {},
          "execution_count": 62
        }
      ]
    },
    {
      "cell_type": "code",
      "source": [
        "mse(Y_teat , y_pred)"
      ],
      "metadata": {
        "colab": {
          "base_uri": "https://localhost:8080/"
        },
        "id": "tiLQ1OWedlCh",
        "outputId": "55646d07-1c94-4229-ef90-5a1ed10a8278"
      },
      "execution_count": null,
      "outputs": [
        {
          "output_type": "execute_result",
          "data": {
            "text/plain": [
              "<tf.Tensor: shape=(), dtype=float32, numpy=895.3065>"
            ]
          },
          "metadata": {},
          "execution_count": 63
        }
      ]
    },
    {
      "cell_type": "code",
      "source": [
        "model_1 = tf.keras.Sequential([\n",
        "    tf.keras.layers.Dense(1)\n",
        "])\n",
        "model_1.compile(loss = tf.keras.losses.mae,\n",
        "                optimizer= tf.keras.optimizers.SGD(),\n",
        "                metrics=[\"mae\"])\n",
        "model_1.fit(tf.expand_dims(X_train,axis=-1),Y_train,epochs=100,verbose=0)"
      ],
      "metadata": {
        "colab": {
          "base_uri": "https://localhost:8080/"
        },
        "id": "iYDc5HLPfsfL",
        "outputId": "f910054b-45f9-49f9-f621-882d4ac35eb3"
      },
      "execution_count": null,
      "outputs": [
        {
          "output_type": "execute_result",
          "data": {
            "text/plain": [
              "<keras.src.callbacks.History at 0x78111d553700>"
            ]
          },
          "metadata": {},
          "execution_count": 64
        }
      ]
    },
    {
      "cell_type": "code",
      "source": [
        "y_pred_1 = model_1.predict(X_test)\n",
        "predictions(prediction=y_pred_1)"
      ],
      "metadata": {
        "colab": {
          "base_uri": "https://localhost:8080/",
          "height": 693
        },
        "id": "YcIP_GvphEMY",
        "outputId": "ccc4540f-13a7-4eaf-ae31-bdb7f182c7f8"
      },
      "execution_count": null,
      "outputs": [
        {
          "output_type": "stream",
          "name": "stdout",
          "text": [
            "1/1 [==============================] - 0s 47ms/step\n"
          ]
        },
        {
          "output_type": "display_data",
          "data": {
            "text/plain": [
              "<Figure size 900x800 with 1 Axes>"
            ],
            "image/png": "[encoded data removed]"
          },
          "metadata": {}
        }
      ]
    },
    {
      "cell_type": "code",
      "source": [
        "mae_1=mae(Y_teat , y_pred_1)\n",
        "mse_1=mse(Y_teat , y_pred_1)\n",
        "mae_1 , mse_1"
      ],
      "metadata": {
        "colab": {
          "base_uri": "https://localhost:8080/"
        },
        "id": "Jl38bplBhzR_",
        "outputId": "976beb5a-b076-4bd7-a27b-5d0d744f1e31"
      },
      "execution_count": null,
      "outputs": [
        {
          "output_type": "execute_result",
          "data": {
            "text/plain": [
              "(<tf.Tensor: shape=(), dtype=float32, numpy=38.066463>,\n",
              " <tf.Tensor: shape=(), dtype=float32, numpy=1457.5255>)"
            ]
          },
          "metadata": {},
          "execution_count": 66
        }
      ]
    },
    {
      "cell_type": "code",
      "source": [
        "model_2 = tf.keras.Sequential([\n",
        "    tf.keras.layers.Dense(1),\n",
        "    tf.keras.layers.Dense(1)\n",
        "])\n",
        "model_2.compile(loss = tf.keras.losses.mae,\n",
        "                optimizer= tf.keras.optimizers.SGD(),\n",
        "                metrics=[\"mae\"])\n",
        "model_2.fit(tf.expand_dims(X_train,axis=-1),Y_train,epochs=100,verbose=0)"
      ],
      "metadata": {
        "colab": {
          "base_uri": "https://localhost:8080/"
        },
        "id": "AKp9fO7JiZyc",
        "outputId": "3e5ea9a8-9367-4f59-827e-062d7b56458f"
      },
      "execution_count": null,
      "outputs": [
        {
          "output_type": "execute_result",
          "data": {
            "text/plain": [
              "<keras.src.callbacks.History at 0x78111d281d20>"
            ]
          },
          "metadata": {},
          "execution_count": 67
        }
      ]
    },
    {
      "cell_type": "code",
      "source": [
        "y_pred_2 = model_2.predict(X_test)\n",
        "predictions(prediction=y_pred_2)"
      ],
      "metadata": {
        "colab": {
          "base_uri": "https://localhost:8080/",
          "height": 693
        },
        "id": "Lha4kX00itV4",
        "outputId": "97f164c4-96c6-41c9-c478-0ccd73c60f61"
      },
      "execution_count": null,
      "outputs": [
        {
          "output_type": "stream",
          "name": "stdout",
          "text": [
            "1/1 [==============================] - 0s 61ms/step\n"
          ]
        },
        {
          "output_type": "display_data",
          "data": {
            "text/plain": [
              "<Figure size 900x800 with 1 Axes>"
            ],
            "image/png": "[encoded data removed]"
          },
          "metadata": {}
        }
      ]
    },
    {
      "cell_type": "code",
      "source": [
        "mae_2=mae(Y_teat , y_pred_2)\n",
        "mse_2=mse(Y_teat , y_pred_2)\n",
        "mae_2 , mse_2"
      ],
      "metadata": {
        "colab": {
          "base_uri": "https://localhost:8080/"
        },
        "id": "FqKxeZdai5pK",
        "outputId": "c97ec872-03de-4117-f477-15bf46b8a5d8"
      },
      "execution_count": null,
      "outputs": [
        {
          "output_type": "execute_result",
          "data": {
            "text/plain": [
              "(<tf.Tensor: shape=(), dtype=float32, numpy=86.55388>,\n",
              " <tf.Tensor: shape=(), dtype=float32, numpy=7542.143>)"
            ]
          },
          "metadata": {},
          "execution_count": 69
        }
      ]
    },
    {
      "cell_type": "code",
      "source": [
        "model_3 = tf.keras.Sequential([\n",
        "    tf.keras.layers.Dense(1),\n",
        "    tf.keras.layers.Dense(1)\n",
        "])\n",
        "model_3.compile(loss = tf.keras.losses.mae,\n",
        "                optimizer= tf.keras.optimizers.SGD(),\n",
        "                metrics=[\"mae\"])\n",
        "model_3.fit(tf.expand_dims(X_train,axis=-1),Y_train,epochs=200,verbose=0)"
      ],
      "metadata": {
        "colab": {
          "base_uri": "https://localhost:8080/"
        },
        "id": "W6b8nRUqjL6y",
        "outputId": "3d09abba-87ab-4ddb-ae55-ac858266ae8e"
      },
      "execution_count": null,
      "outputs": [
        {
          "output_type": "execute_result",
          "data": {
            "text/plain": [
              "<keras.src.callbacks.History at 0x78111d2389a0>"
            ]
          },
          "metadata": {},
          "execution_count": 70
        }
      ]
    },
    {
      "cell_type": "code",
      "source": [
        "y_pred_3 = model_3.predict(X_test)\n",
        "predictions(prediction=y_pred_3)"
      ],
      "metadata": {
        "colab": {
          "base_uri": "https://localhost:8080/",
          "height": 731
        },
        "id": "iWGS1keRjTGV",
        "outputId": "48fe8374-6d20-444c-c96f-50ae22c67cdf"
      },
      "execution_count": null,
      "outputs": [
        {
          "output_type": "stream",
          "name": "stderr",
          "text": [
            "WARNING:tensorflow:5 out of the last 5 calls to <function Model.make_predict_function.<locals>.predict_function at 0x78111c349d80> triggered tf.function retracing. Tracing is expensive and the excessive number of tracings could be due to (1) creating @tf.function repeatedly in a loop, (2) passing tensors with different shapes, (3) passing Python objects instead of tensors. For (1), please define your @tf.function outside of the loop. For (2), @tf.function has reduce_retracing=True option that can avoid unnecessary retracing. For (3), please refer to https://www.tensorflow.org/guide/function#controlling_retracing and https://www.tensorflow.org/api_docs/python/tf/function for  more details.\n"
          ]
        },
        {
          "output_type": "stream",
          "name": "stdout",
          "text": [
            "1/1 [==============================] - 0s 67ms/step\n"
          ]
        },
        {
          "output_type": "display_data",
          "data": {
            "text/plain": [
              "<Figure size 900x800 with 1 Axes>"
            ],
            "image/png": "[encoded data removed]"
          },
          "metadata": {}
        }
      ]
    },
    {
      "cell_type": "code",
      "source": [
        "mae_3 = mae(Y_teat , y_pred_3)\n",
        "mse_3 = mse(Y_teat , y_pred_3)\n",
        "mae_3 , mse_3"
      ],
      "metadata": {
        "colab": {
          "base_uri": "https://localhost:8080/"
        },
        "id": "-SSCiCbmje33",
        "outputId": "602a1a20-786f-47a4-8a23-9db18b981adf"
      },
      "execution_count": null,
      "outputs": [
        {
          "output_type": "execute_result",
          "data": {
            "text/plain": [
              "(<tf.Tensor: shape=(), dtype=float32, numpy=18.534538>,\n",
              " <tf.Tensor: shape=(), dtype=float32, numpy=347.20932>)"
            ]
          },
          "metadata": {},
          "execution_count": 72
        }
      ]
    },
    {
      "cell_type": "code",
      "source": [
        "model_results = [[\"model_1\", mae_1.numpy(), mse_1.numpy()],\n",
        "                 [\"model_2\", mae_2.numpy(), mse_2.numpy()],\n",
        "                 [\"model_3\", mae_3.numpy(), mse_3.numpy()]]"
      ],
      "metadata": {
        "id": "-jpZej31jn71"
      },
      "execution_count": null,
      "outputs": []
    },
    {
      "cell_type": "code",
      "source": [
        "all_results = pd.DataFrame(model_results)\n",
        "all_results"
      ],
      "metadata": {
        "colab": {
          "base_uri": "https://localhost:8080/",
          "height": 143
        },
        "id": "87kVoh-Ck6iT",
        "outputId": "8b7fc716-d12c-4161-f680-704773326553"
      },
      "execution_count": null,
      "outputs": [
        {
          "output_type": "execute_result",
          "data": {
            "text/plain": [
              "         0          1            2\n",
              "0  model_1  38.066463  1457.525513\n",
              "1  model_2  86.553879  7542.143066\n",
              "2  model_3  18.534538   347.209320"
            ],
            "text/html": [
              "\n",
              "  <div id=\"df-c27ebb06-c0f3-4a24-a902-5a65c2620e88\" class=\"colab-df-container\">\n",
              "    <div>\n",
              "<style scoped>\n",
              "    .dataframe tbody tr th:only-of-type {\n",
              "        vertical-align: middle;\n",
              "    }\n",
              "\n",
              "    .dataframe tbody tr th {\n",
              "        vertical-align: top;\n",
              "    }\n",
              "\n",
              "    .dataframe thead th {\n",
              "        text-align: right;\n",
              "    }\n",
              "</style>\n",
              "<table border=\"1\" class=\"dataframe\">\n",
              "  <thead>\n",
              "    <tr style=\"text-align: right;\">\n",
              "      <th></th>\n",
              "      <th>0</th>\n",
              "      <th>1</th>\n",
              "      <th>2</th>\n",
              "    </tr>\n",
              "  </thead>\n",
              "  <tbody>\n",
              "    <tr>\n",
              "      <th>0</th>\n",
              "      <td>model_1</td>\n",
              "      <td>38.066463</td>\n",
              "      <td>1457.525513</td>\n",
              "    </tr>\n",
              "    <tr>\n",
              "      <th>1</th>\n",
              "      <td>model_2</td>\n",
              "      <td>86.553879</td>\n",
              "      <td>7542.143066</td>\n",
              "    </tr>\n",
              "    <tr>\n",
              "      <th>2</th>\n",
              "      <td>model_3</td>\n",
              "      <td>18.534538</td>\n",
              "      <td>347.209320</td>\n",
              "    </tr>\n",
              "  </tbody>\n",
              "</table>\n",
              "</div>\n",
              "    <div class=\"colab-df-buttons\">\n",
              "\n",
              "  <div class=\"colab-df-container\">\n",
              "    <button class=\"colab-df-convert\" onclick=\"convertToInteractive('df-c27ebb06-c0f3-4a24-a902-5a65c2620e88')\"\n",
              "            title=\"Convert this dataframe to an interactive table.\"\n",
              "            style=\"display:none;\">\n",
              "\n",
              "  <svg xmlns=\"http://www.w3.org/2000/svg\" height=\"24px\" viewBox=\"0 -960 960 960\">\n",
              "    <path d=\"M120-120v-720h720v720H120Zm60-500h600v-160H180v160Zm220 220h160v-160H400v160Zm0 220h160v-160H400v160ZM180-400h160v-160H180v160Zm440 0h160v-160H620v160ZM180-180h160v-160H180v160Zm440 0h160v-160H620v160Z\"/>\n",
              "  </svg>\n",
              "    </button>\n",
              "\n",
              "  <style>\n",
              "    .colab-df-container {\n",
              "      display:flex;\n",
              "      gap: 12px;\n",
              "    }\n",
              "\n",
              "    .colab-df-convert {\n",
              "      background-color: #E8F0FE;\n",
              "      border: none;\n",
              "      border-radius: 50%;\n",
              "      cursor: pointer;\n",
              "      display: none;\n",
              "      fill: #1967D2;\n",
              "      height: 32px;\n",
              "      padding: 0 0 0 0;\n",
              "      width: 32px;\n",
              "    }\n",
              "\n",
              "    .colab-df-convert:hover {\n",
              "      background-color: #E2EBFA;\n",
              "      box-shadow: 0px 1px 2px rgba(60, 64, 67, 0.3), 0px 1px 3px 1px rgba(60, 64, 67, 0.15);\n",
              "      fill: #174EA6;\n",
              "    }\n",
              "\n",
              "    .colab-df-buttons div {\n",
              "      margin-bottom: 4px;\n",
              "    }\n",
              "\n",
              "    [theme=dark] .colab-df-convert {\n",
              "      background-color: #3B4455;\n",
              "      fill: #D2E3FC;\n",
              "    }\n",
              "\n",
              "    [theme=dark] .colab-df-convert:hover {\n",
              "      background-color: #434B5C;\n",
              "      box-shadow: 0px 1px 3px 1px rgba(0, 0, 0, 0.15);\n",
              "      filter: drop-shadow(0px 1px 2px rgba(0, 0, 0, 0.3));\n",
              "      fill: #FFFFFF;\n",
              "    }\n",
              "  </style>\n",
              "\n",
              "    <script>\n",
              "      const buttonEl =\n",
              "        document.querySelector('#df-c27ebb06-c0f3-4a24-a902-5a65c2620e88 button.colab-df-convert');\n",
              "      buttonEl.style.display =\n",
              "        google.colab.kernel.accessAllowed ? 'block' : 'none';\n",
              "\n",
              "      async function convertToInteractive(key) {\n",
              "        const element = document.querySelector('#df-c27ebb06-c0f3-4a24-a902-5a65c2620e88');\n",
              "        const dataTable =\n",
              "          await google.colab.kernel.invokeFunction('convertToInteractive',\n",
              "                                                    [key], {});\n",
              "        if (!dataTable) return;\n",
              "\n",
              "        const docLinkHtml = 'Like what you see? Visit the ' +\n",
              "          '<a target=\"_blank\" href=https://colab.research.google.com/notebooks/data_table.ipynb>data table notebook</a>'\n",
              "          + ' to learn more about interactive tables.';\n",
              "        element.innerHTML = '';\n",
              "        dataTable['output_type'] = 'display_data';\n",
              "        await google.colab.output.renderOutput(dataTable, element);\n",
              "        const docLink = document.createElement('div');\n",
              "        docLink.innerHTML = docLinkHtml;\n",
              "        element.appendChild(docLink);\n",
              "      }\n",
              "    </script>\n",
              "  </div>\n",
              "\n",
              "\n",
              "<div id=\"df-21026583-75e1-40a0-99b7-537bac4978bb\">\n",
              "  <button class=\"colab-df-quickchart\" onclick=\"quickchart('df-21026583-75e1-40a0-99b7-537bac4978bb')\"\n",
              "            title=\"Suggest charts.\"\n",
              "            style=\"display:none;\">\n",
              "\n",
              "<svg xmlns=\"http://www.w3.org/2000/svg\" height=\"24px\"viewBox=\"0 0 24 24\"\n",
              "     width=\"24px\">\n",
              "    <g>\n",
              "        <path d=\"M19 3H5c-1.1 0-2 .9-2 2v14c0 1.1.9 2 2 2h14c1.1 0 2-.9 2-2V5c0-1.1-.9-2-2-2zM9 17H7v-7h2v7zm4 0h-2V7h2v10zm4 0h-2v-4h2v4z\"/>\n",
              "    </g>\n",
              "</svg>\n",
              "  </button>\n",
              "\n",
              "<style>\n",
              "  .colab-df-quickchart {\n",
              "      --bg-color: #E8F0FE;\n",
              "      --fill-color: #1967D2;\n",
              "      --hover-bg-color: #E2EBFA;\n",
              "      --hover-fill-color: #174EA6;\n",
              "      --disabled-fill-color: #AAA;\n",
              "      --disabled-bg-color: #DDD;\n",
              "  }\n",
              "\n",
              "  [theme=dark] .colab-df-quickchart {\n",
              "      --bg-color: #3B4455;\n",
              "      --fill-color: #D2E3FC;\n",
              "      --hover-bg-color: #434B5C;\n",
              "      --hover-fill-color: #FFFFFF;\n",
              "      --disabled-bg-color: #3B4455;\n",
              "      --disabled-fill-color: #666;\n",
              "  }\n",
              "\n",
              "  .colab-df-quickchart {\n",
              "    background-color: var(--bg-color);\n",
              "    border: none;\n",
              "    border-radius: 50%;\n",
              "    cursor: pointer;\n",
              "    display: none;\n",
              "    fill: var(--fill-color);\n",
              "    height: 32px;\n",
              "    padding: 0;\n",
              "    width: 32px;\n",
              "  }\n",
              "\n",
              "  .colab-df-quickchart:hover {\n",
              "    background-color: var(--hover-bg-color);\n",
              "    box-shadow: 0 1px 2px rgba(60, 64, 67, 0.3), 0 1px 3px 1px rgba(60, 64, 67, 0.15);\n",
              "    fill: var(--button-hover-fill-color);\n",
              "  }\n",
              "\n",
              "  .colab-df-quickchart-complete:disabled,\n",
              "  .colab-df-quickchart-complete:disabled:hover {\n",
              "    background-color: var(--disabled-bg-color);\n",
              "    fill: var(--disabled-fill-color);\n",
              "    box-shadow: none;\n",
              "  }\n",
              "\n",
              "  .colab-df-spinner {\n",
              "    border: 2px solid var(--fill-color);\n",
              "    border-color: transparent;\n",
              "    border-bottom-color: var(--fill-color);\n",
              "    animation:\n",
              "      spin 1s steps(1) infinite;\n",
              "  }\n",
              "\n",
              "  @keyframes spin {\n",
              "    0% {\n",
              "      border-color: transparent;\n",
              "      border-bottom-color: var(--fill-color);\n",
              "      border-left-color: var(--fill-color);\n",
              "    }\n",
              "    20% {\n",
              "      border-color: transparent;\n",
              "      border-left-color: var(--fill-color);\n",
              "      border-top-color: var(--fill-color);\n",
              "    }\n",
              "    30% {\n",
              "      border-color: transparent;\n",
              "      border-left-color: var(--fill-color);\n",
              "      border-top-color: var(--fill-color);\n",
              "      border-right-color: var(--fill-color);\n",
              "    }\n",
              "    40% {\n",
              "      border-color: transparent;\n",
              "      border-right-color: var(--fill-color);\n",
              "      border-top-color: var(--fill-color);\n",
              "    }\n",
              "    60% {\n",
              "      border-color: transparent;\n",
              "      border-right-color: var(--fill-color);\n",
              "    }\n",
              "    80% {\n",
              "      border-color: transparent;\n",
              "      border-right-color: var(--fill-color);\n",
              "      border-bottom-color: var(--fill-color);\n",
              "    }\n",
              "    90% {\n",
              "      border-color: transparent;\n",
              "      border-bottom-color: var(--fill-color);\n",
              "    }\n",
              "  }\n",
              "</style>\n",
              "\n",
              "  <script>\n",
              "    async function quickchart(key) {\n",
              "      const quickchartButtonEl =\n",
              "        document.querySelector('#' + key + ' button');\n",
              "      quickchartButtonEl.disabled = true;  // To prevent multiple clicks.\n",
              "      quickchartButtonEl.classList.add('colab-df-spinner');\n",
              "      try {\n",
              "        const charts = await google.colab.kernel.invokeFunction(\n",
              "            'suggestCharts', [key], {});\n",
              "      } catch (error) {\n",
              "        console.error('Error during call to suggestCharts:', error);\n",
              "      }\n",
              "      quickchartButtonEl.classList.remove('colab-df-spinner');\n",
              "      quickchartButtonEl.classList.add('colab-df-quickchart-complete');\n",
              "    }\n",
              "    (() => {\n",
              "      let quickchartButtonEl =\n",
              "        document.querySelector('#df-21026583-75e1-40a0-99b7-537bac4978bb button');\n",
              "      quickchartButtonEl.style.display =\n",
              "        google.colab.kernel.accessAllowed ? 'block' : 'none';\n",
              "    })();\n",
              "  </script>\n",
              "</div>\n",
              "    </div>\n",
              "  </div>\n"
            ]
          },
          "metadata": {},
          "execution_count": 74
        }
      ]
    },
    {
      "cell_type": "code",
      "source": [
        "model_3.save(\"best_model_save_format\")"
      ],
      "metadata": {
        "id": "GQllLXZmKz_X"
      },
      "execution_count": null,
      "outputs": []
    },
    {
      "cell_type": "code",
      "source": [
        "model_3.save(\"best_model_HD5format.h5\")"
      ],
      "metadata": {
        "colab": {
          "base_uri": "https://localhost:8080/"
        },
        "id": "4Pm9pUM0Lf8z",
        "outputId": "e2c4c3f3-560c-411b-f3da-904be293bc73"
      },
      "execution_count": null,
      "outputs": [
        {
          "output_type": "stream",
          "name": "stderr",
          "text": [
            "/usr/local/lib/python3.10/dist-packages/keras/src/engine/training.py:3000: UserWarning: You are saving your model as an HDF5 file via `model.save()`. This file format is considered legacy. We recommend using instead the native Keras format, e.g. `model.save('my_model.keras')`.\n",
            "  saving_api.save_model(\n"
          ]
        }
      ]
    },
    {
      "cell_type": "code",
      "source": [
        "loaded_saved_model = tf.keras.models.load_model(\"/content/best_model_save_format\")\n",
        "loaded_saved_model.summary() , model_3.summary()"
      ],
      "metadata": {
        "colab": {
          "base_uri": "https://localhost:8080/"
        },
        "id": "KZn4z3vwLleh",
        "outputId": "7b312cae-bb18-4b14-8145-f4bdec24acca"
      },
      "execution_count": null,
      "outputs": [
        {
          "output_type": "stream",
          "name": "stdout",
          "text": [
            "Model: \"sequential_4\"\n",
            "_________________________________________________________________\n",
            " Layer (type)                Output Shape              Param #   \n",
            "=================================================================\n",
            " dense_6 (Dense)             (None, 1)                 2         \n",
            "                                                                 \n",
            " dense_7 (Dense)             (None, 1)                 2         \n",
            "                                                                 \n",
            "=================================================================\n",
            "Total params: 4 (16.00 Byte)\n",
            "Trainable params: 4 (16.00 Byte)\n",
            "Non-trainable params: 0 (0.00 Byte)\n",
            "_________________________________________________________________\n",
            "Model: \"sequential_4\"\n",
            "_________________________________________________________________\n",
            " Layer (type)                Output Shape              Param #   \n",
            "=================================================================\n",
            " dense_6 (Dense)             (None, 1)                 2         \n",
            "                                                                 \n",
            " dense_7 (Dense)             (None, 1)                 2         \n",
            "                                                                 \n",
            "=================================================================\n",
            "Total params: 4 (16.00 Byte)\n",
            "Trainable params: 4 (16.00 Byte)\n",
            "Non-trainable params: 0 (0.00 Byte)\n",
            "_________________________________________________________________\n"
          ]
        },
        {
          "output_type": "execute_result",
          "data": {
            "text/plain": [
              "(None, None)"
            ]
          },
          "metadata": {},
          "execution_count": 77
        }
      ]
    }
  ]
}